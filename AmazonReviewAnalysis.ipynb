{
 "cells": [
  {
   "cell_type": "code",
   "execution_count": 0,
   "metadata": {
    "application/vnd.databricks.v1+cell": {
     "cellMetadata": {},
     "inputWidgets": {},
     "nuid": "c3a59400-540d-4657-a692-eaee482981a8",
     "showTitle": true,
     "title": "Load Data"
    }
   },
   "outputs": [
    {
     "output_type": "stream",
     "name": "stdout",
     "output_type": "stream",
     "text": [
      "(3138710, 11)\n"
     ]
    }
   ],
   "source": [
    "# Load Data\n",
    "df = spark.sql(\"select * from default.reviews_train\")\n",
    "print((df.count(), len(df.columns)))"
   ]
  },
  {
   "cell_type": "code",
   "execution_count": 0,
   "metadata": {
    "application/vnd.databricks.v1+cell": {
     "cellMetadata": {},
     "inputWidgets": {},
     "nuid": "33a78947-fc88-4c1c-bf6f-220f7512d6f2",
     "showTitle": true,
     "title": "Cleaning Data"
    }
   },
   "outputs": [
    {
     "output_type": "stream",
     "name": "stdout",
     "output_type": "stream",
     "text": [
      "Before duplication removal:  3138710\nAfter duplication removal:  2910132\n"
     ]
    }
   ],
   "source": [
    "# Drop duplicates\n",
    "\n",
    "print(\"Before duplication removal: \", df.count())\n",
    "df_distinct = df.dropDuplicates(['reviewText', \"asin\", 'label'])\n",
    "print(\"After duplication removal: \", df_distinct.count())"
   ]
  },
  {
   "cell_type": "code",
   "execution_count": 0,
   "metadata": {
    "application/vnd.databricks.v1+cell": {
     "cellMetadata": {},
     "inputWidgets": {},
     "nuid": "6e235ed9-db01-45a8-a8fa-c1ac7b068775",
     "showTitle": false,
     "title": ""
    }
   },
   "outputs": [],
   "source": [
    "# convert Unix timestamp\n",
    "from pyspark.sql import functions\n",
    "from pyspark.sql.functions import *\n",
    "from pyspark.sql.types import *\n",
    "\n",
    "# convert timestamp\n",
    "df_distinct_with_date = df_distinct.withColumn(\"reviewTime\", to_date(from_unixtime(df_distinct.unixReviewTime))) \\\n",
    "                                                .drop(\"unixReviewTime\")\n",
    "\n",
    "# create a new column containing the length of review text\n",
    "df_distinct_with_date = df_distinct_with_date.withColumn(\"length\", length(\"reviewText\"))\n",
    "\n",
    "# create a new column with current_date\n",
    "df_distinct_with_date.withColumn(\"current_date\", current_date())\n",
    "\n",
    "# returns the number of days between current date and review time\n",
    "df_distinct_with_date = df_distinct_with_date.withColumn(\"datediff\", datediff(col(\"current_date\"), col(\"reviewTime\")))\n",
    "\n",
    "df_distinct_with_date = df_distinct_with_date.withColumn(\"verifiedInt\", functions.col(\"verified\").cast(\"int\")).drop(\"verified\")"
   ]
  },
  {
   "cell_type": "code",
   "execution_count": 0,
   "metadata": {
    "application/vnd.databricks.v1+cell": {
     "cellMetadata": {},
     "inputWidgets": {},
     "nuid": "431cf911-675b-453c-8795-4127eece0c3c",
     "showTitle": true,
     "title": "Data Wrangling"
    }
   },
   "outputs": [],
   "source": [
    "df1 = df_distinct_with_date.select(\"reviewerID\", \"overall\", \"verifiedInt\", \"datediff\", \"asin\", \"length\", \"reviewText\", \"summary\", \"label\")"
   ]
  },
  {
   "cell_type": "code",
   "execution_count": 0,
   "metadata": {
    "application/vnd.databricks.v1+cell": {
     "cellMetadata": {},
     "inputWidgets": {},
     "nuid": "f0cad19b-00ae-4e94-ae34-a0e923e2da63",
     "showTitle": false,
     "title": ""
    }
   },
   "outputs": [
    {
     "output_type": "stream",
     "name": "stdout",
     "output_type": "stream",
     "text": [
      "Out[11]: <bound method NDFrame.head of              reviewerID  ...  label\n0        A2N75YXP8BT2QR  ...      0\n1        A3AE7XLS3DUMRQ  ...      1\n2        A1JMLEXBKC323A  ...      0\n3        A1JMLEXBKC323A  ...      0\n4        A1S4Y9XTBI4JEO  ...      0\n...                 ...  ...    ...\n2910127  A1AQV9U4HSHCZU  ...      0\n2910128  A2E95A6QPQ4EDM  ...      0\n2910129   A36JTJXJB7T2S  ...      1\n2910130  A1W7TXSVG81XD0  ...      1\n2910131  A2C2R0PRKU2U6J  ...      0\n\n[2910132 rows x 9 columns]>"
     ]
    }
   ],
   "source": [
    "df1=df1.toPandas()\n",
    "df1.head"
   ]
  },
  {
   "cell_type": "code",
   "execution_count": 0,
   "metadata": {
    "application/vnd.databricks.v1+cell": {
     "cellMetadata": {},
     "inputWidgets": {},
     "nuid": "e32e17a1-5702-48bc-acb9-dddf7aad98a3",
     "showTitle": true,
     "title": "Calculate Compound Score"
    }
   },
   "outputs": [],
   "source": [
    "import nltk\n",
    "from nltk.sentiment.vader import SentimentIntensityAnalyzer\n",
    "\n",
    "sent = SentimentIntensityAnalyzer()"
   ]
  },
  {
   "cell_type": "code",
   "execution_count": 0,
   "metadata": {
    "application/vnd.databricks.v1+cell": {
     "cellMetadata": {},
     "inputWidgets": {},
     "nuid": "5232c5d6-dac4-45aa-8631-6d6ec74f8716",
     "showTitle": false,
     "title": ""
    }
   },
   "outputs": [],
   "source": [
    "# define a function\n",
    "def check_compound(x):\n",
    "    return sent.polarity_scores(x)['compound']"
   ]
  },
  {
   "cell_type": "code",
   "execution_count": 0,
   "metadata": {
    "application/vnd.databricks.v1+cell": {
     "cellMetadata": {},
     "inputWidgets": {},
     "nuid": "a982798c-e63a-4edf-a607-36646add3e7a",
     "showTitle": false,
     "title": ""
    }
   },
   "outputs": [],
   "source": [
    "df1['compound_score'] = df1['reviewText'].apply(lambda x: check_compound(x))"
   ]
  },
  {
   "cell_type": "code",
   "execution_count": 0,
   "metadata": {
    "application/vnd.databricks.v1+cell": {
     "cellMetadata": {},
     "inputWidgets": {},
     "nuid": "a9ca1e6e-0919-41b9-99b2-6f81ffba0f8f",
     "showTitle": false,
     "title": ""
    }
   },
   "outputs": [
    {
     "output_type": "display_data",
     "data": {
      "text/html": [
       "<div>\n<style scoped>\n    .dataframe tbody tr th:only-of-type {\n        vertical-align: middle;\n    }\n\n    .dataframe tbody tr th {\n        vertical-align: top;\n    }\n\n    .dataframe thead th {\n        text-align: right;\n    }\n</style>\n<table border=\"1\" class=\"dataframe\">\n  <thead>\n    <tr style=\"text-align: right;\">\n      <th></th>\n      <th>reviewerID</th>\n      <th>overall</th>\n      <th>verifiedInt</th>\n      <th>datediff</th>\n      <th>asin</th>\n      <th>length</th>\n      <th>reviewText</th>\n      <th>summary</th>\n      <th>label</th>\n      <th>compound_score</th>\n    </tr>\n  </thead>\n  <tbody>\n    <tr>\n      <th>0</th>\n      <td>A2N75YXP8BT2QR</td>\n      <td>5.0</td>\n      <td>1</td>\n      <td>3004</td>\n      <td>B001FB59WM</td>\n      <td>58</td>\n      <td>Perfect Transaction! Highly Recommended 5   ...</td>\n      <td>Five Stars</td>\n      <td>0</td>\n      <td>0.8610</td>\n    </tr>\n    <tr>\n      <th>1</th>\n      <td>A3AE7XLS3DUMRQ</td>\n      <td>1.0</td>\n      <td>1</td>\n      <td>2530</td>\n      <td>B0012C6VYO</td>\n      <td>1391</td>\n      <td>Price Point: 1/5   Quality/Durability: 1/5  ...</td>\n      <td>Disappointed is an understatment. This was a H...</td>\n      <td>1</td>\n      <td>0.9413</td>\n    </tr>\n    <tr>\n      <th>2</th>\n      <td>A1JMLEXBKC323A</td>\n      <td>5.0</td>\n      <td>1</td>\n      <td>2419</td>\n      <td>0060263415</td>\n      <td>53</td>\n      <td>10 Stars  HIGHLY RECOMMENDED  Seeing IS Belie...</td>\n      <td>Five Stars</td>\n      <td>0</td>\n      <td>0.5928</td>\n    </tr>\n    <tr>\n      <th>3</th>\n      <td>A1JMLEXBKC323A</td>\n      <td>5.0</td>\n      <td>1</td>\n      <td>2419</td>\n      <td>B000RGVPTC</td>\n      <td>53</td>\n      <td>10 Stars  HIGHLY RECOMMENDED  Seeing IS Belie...</td>\n      <td>Five Stars</td>\n      <td>0</td>\n      <td>0.5928</td>\n    </tr>\n    <tr>\n      <th>4</th>\n      <td>A1S4Y9XTBI4JEO</td>\n      <td>5.0</td>\n      <td>1</td>\n      <td>1775</td>\n      <td>B0001XAO7A</td>\n      <td>54</td>\n      <td>Bowden's Masonry/Another Day Music/Designing ...</td>\n      <td>Five Stars</td>\n      <td>0</td>\n      <td>0.4215</td>\n    </tr>\n  </tbody>\n</table>\n</div>"
      ]
     },
     "metadata": {
      "application/vnd.databricks.v1+output": {
       "addedWidgets": {},
       "arguments": {},
       "data": "<div>\n<style scoped>\n    .dataframe tbody tr th:only-of-type {\n        vertical-align: middle;\n    }\n\n    .dataframe tbody tr th {\n        vertical-align: top;\n    }\n\n    .dataframe thead th {\n        text-align: right;\n    }\n</style>\n<table border=\"1\" class=\"dataframe\">\n  <thead>\n    <tr style=\"text-align: right;\">\n      <th></th>\n      <th>reviewerID</th>\n      <th>overall</th>\n      <th>verifiedInt</th>\n      <th>datediff</th>\n      <th>asin</th>\n      <th>length</th>\n      <th>reviewText</th>\n      <th>summary</th>\n      <th>label</th>\n      <th>compound_score</th>\n    </tr>\n  </thead>\n  <tbody>\n    <tr>\n      <th>0</th>\n      <td>A2N75YXP8BT2QR</td>\n      <td>5.0</td>\n      <td>1</td>\n      <td>3004</td>\n      <td>B001FB59WM</td>\n      <td>58</td>\n      <td>Perfect Transaction! Highly Recommended 5   ...</td>\n      <td>Five Stars</td>\n      <td>0</td>\n      <td>0.8610</td>\n    </tr>\n    <tr>\n      <th>1</th>\n      <td>A3AE7XLS3DUMRQ</td>\n      <td>1.0</td>\n      <td>1</td>\n      <td>2530</td>\n      <td>B0012C6VYO</td>\n      <td>1391</td>\n      <td>Price Point: 1/5   Quality/Durability: 1/5  ...</td>\n      <td>Disappointed is an understatment. This was a H...</td>\n      <td>1</td>\n      <td>0.9413</td>\n    </tr>\n    <tr>\n      <th>2</th>\n      <td>A1JMLEXBKC323A</td>\n      <td>5.0</td>\n      <td>1</td>\n      <td>2419</td>\n      <td>0060263415</td>\n      <td>53</td>\n      <td>10 Stars  HIGHLY RECOMMENDED  Seeing IS Belie...</td>\n      <td>Five Stars</td>\n      <td>0</td>\n      <td>0.5928</td>\n    </tr>\n    <tr>\n      <th>3</th>\n      <td>A1JMLEXBKC323A</td>\n      <td>5.0</td>\n      <td>1</td>\n      <td>2419</td>\n      <td>B000RGVPTC</td>\n      <td>53</td>\n      <td>10 Stars  HIGHLY RECOMMENDED  Seeing IS Belie...</td>\n      <td>Five Stars</td>\n      <td>0</td>\n      <td>0.5928</td>\n    </tr>\n    <tr>\n      <th>4</th>\n      <td>A1S4Y9XTBI4JEO</td>\n      <td>5.0</td>\n      <td>1</td>\n      <td>1775</td>\n      <td>B0001XAO7A</td>\n      <td>54</td>\n      <td>Bowden's Masonry/Another Day Music/Designing ...</td>\n      <td>Five Stars</td>\n      <td>0</td>\n      <td>0.4215</td>\n    </tr>\n  </tbody>\n</table>\n</div>",
       "datasetInfos": [],
       "metadata": {},
       "removedWidgets": [],
       "textData": null,
       "type": "htmlSandbox"
      }
     },
     "output_type": "display_data"
    }
   ],
   "source": [
    "df1.head()"
   ]
  },
  {
   "cell_type": "code",
   "execution_count": 0,
   "metadata": {
    "application/vnd.databricks.v1+cell": {
     "cellMetadata": {},
     "inputWidgets": {},
     "nuid": "4bee424a-d9ad-4590-98af-d0ad2689d2bd",
     "showTitle": true,
     "title": "Calculate Polarity Score"
    }
   },
   "outputs": [],
   "source": [
    "from textblob import TextBlob"
   ]
  },
  {
   "cell_type": "code",
   "execution_count": 0,
   "metadata": {
    "application/vnd.databricks.v1+cell": {
     "cellMetadata": {},
     "inputWidgets": {},
     "nuid": "260ec78f-42b7-4003-a65e-e84d2e9a3af7",
     "showTitle": false,
     "title": ""
    }
   },
   "outputs": [],
   "source": [
    "# define a function\n",
    "def check_polarity(x):\n",
    "    return TextBlob(x).polarity"
   ]
  },
  {
   "cell_type": "code",
   "execution_count": 0,
   "metadata": {
    "application/vnd.databricks.v1+cell": {
     "cellMetadata": {},
     "inputWidgets": {},
     "nuid": "fbdb660f-fd4a-498b-85ba-0bbcfdaf421b",
     "showTitle": false,
     "title": ""
    }
   },
   "outputs": [],
   "source": [
    "df1['polarity_score'] = df1['reviewText'].apply(lambda x: check_polarity(x))"
   ]
  },
  {
   "cell_type": "code",
   "execution_count": 0,
   "metadata": {
    "application/vnd.databricks.v1+cell": {
     "cellMetadata": {},
     "inputWidgets": {},
     "nuid": "e1f4e54c-0a07-41b7-ada8-82ec79da08d9",
     "showTitle": false,
     "title": ""
    }
   },
   "outputs": [
    {
     "output_type": "display_data",
     "data": {
      "text/html": [
       "<div>\n<style scoped>\n    .dataframe tbody tr th:only-of-type {\n        vertical-align: middle;\n    }\n\n    .dataframe tbody tr th {\n        vertical-align: top;\n    }\n\n    .dataframe thead th {\n        text-align: right;\n    }\n</style>\n<table border=\"1\" class=\"dataframe\">\n  <thead>\n    <tr style=\"text-align: right;\">\n      <th></th>\n      <th>reviewerID</th>\n      <th>overall</th>\n      <th>verifiedInt</th>\n      <th>datediff</th>\n      <th>asin</th>\n      <th>length</th>\n      <th>reviewText</th>\n      <th>summary</th>\n      <th>label</th>\n      <th>compound_score</th>\n      <th>polarity_score</th>\n    </tr>\n  </thead>\n  <tbody>\n    <tr>\n      <th>0</th>\n      <td>A2N75YXP8BT2QR</td>\n      <td>5.0</td>\n      <td>1</td>\n      <td>3004</td>\n      <td>B001FB59WM</td>\n      <td>58</td>\n      <td>Perfect Transaction! Highly Recommended 5   ...</td>\n      <td>Five Stars</td>\n      <td>0</td>\n      <td>0.8610</td>\n      <td>0.470000</td>\n    </tr>\n    <tr>\n      <th>1</th>\n      <td>A3AE7XLS3DUMRQ</td>\n      <td>1.0</td>\n      <td>1</td>\n      <td>2530</td>\n      <td>B0012C6VYO</td>\n      <td>1391</td>\n      <td>Price Point: 1/5   Quality/Durability: 1/5  ...</td>\n      <td>Disappointed is an understatment. This was a H...</td>\n      <td>1</td>\n      <td>0.9413</td>\n      <td>0.070251</td>\n    </tr>\n    <tr>\n      <th>2</th>\n      <td>A1JMLEXBKC323A</td>\n      <td>5.0</td>\n      <td>1</td>\n      <td>2419</td>\n      <td>0060263415</td>\n      <td>53</td>\n      <td>10 Stars  HIGHLY RECOMMENDED  Seeing IS Belie...</td>\n      <td>Five Stars</td>\n      <td>0</td>\n      <td>0.5928</td>\n      <td>0.200000</td>\n    </tr>\n    <tr>\n      <th>3</th>\n      <td>A1JMLEXBKC323A</td>\n      <td>5.0</td>\n      <td>1</td>\n      <td>2419</td>\n      <td>B000RGVPTC</td>\n      <td>53</td>\n      <td>10 Stars  HIGHLY RECOMMENDED  Seeing IS Belie...</td>\n      <td>Five Stars</td>\n      <td>0</td>\n      <td>0.5928</td>\n      <td>0.200000</td>\n    </tr>\n    <tr>\n      <th>4</th>\n      <td>A1S4Y9XTBI4JEO</td>\n      <td>5.0</td>\n      <td>1</td>\n      <td>1775</td>\n      <td>B0001XAO7A</td>\n      <td>54</td>\n      <td>Bowden's Masonry/Another Day Music/Designing ...</td>\n      <td>Five Stars</td>\n      <td>0</td>\n      <td>0.4215</td>\n      <td>0.000000</td>\n    </tr>\n  </tbody>\n</table>\n</div>"
      ]
     },
     "metadata": {
      "application/vnd.databricks.v1+output": {
       "addedWidgets": {},
       "arguments": {},
       "data": "<div>\n<style scoped>\n    .dataframe tbody tr th:only-of-type {\n        vertical-align: middle;\n    }\n\n    .dataframe tbody tr th {\n        vertical-align: top;\n    }\n\n    .dataframe thead th {\n        text-align: right;\n    }\n</style>\n<table border=\"1\" class=\"dataframe\">\n  <thead>\n    <tr style=\"text-align: right;\">\n      <th></th>\n      <th>reviewerID</th>\n      <th>overall</th>\n      <th>verifiedInt</th>\n      <th>datediff</th>\n      <th>asin</th>\n      <th>length</th>\n      <th>reviewText</th>\n      <th>summary</th>\n      <th>label</th>\n      <th>compound_score</th>\n      <th>polarity_score</th>\n    </tr>\n  </thead>\n  <tbody>\n    <tr>\n      <th>0</th>\n      <td>A2N75YXP8BT2QR</td>\n      <td>5.0</td>\n      <td>1</td>\n      <td>3004</td>\n      <td>B001FB59WM</td>\n      <td>58</td>\n      <td>Perfect Transaction! Highly Recommended 5   ...</td>\n      <td>Five Stars</td>\n      <td>0</td>\n      <td>0.8610</td>\n      <td>0.470000</td>\n    </tr>\n    <tr>\n      <th>1</th>\n      <td>A3AE7XLS3DUMRQ</td>\n      <td>1.0</td>\n      <td>1</td>\n      <td>2530</td>\n      <td>B0012C6VYO</td>\n      <td>1391</td>\n      <td>Price Point: 1/5   Quality/Durability: 1/5  ...</td>\n      <td>Disappointed is an understatment. This was a H...</td>\n      <td>1</td>\n      <td>0.9413</td>\n      <td>0.070251</td>\n    </tr>\n    <tr>\n      <th>2</th>\n      <td>A1JMLEXBKC323A</td>\n      <td>5.0</td>\n      <td>1</td>\n      <td>2419</td>\n      <td>0060263415</td>\n      <td>53</td>\n      <td>10 Stars  HIGHLY RECOMMENDED  Seeing IS Belie...</td>\n      <td>Five Stars</td>\n      <td>0</td>\n      <td>0.5928</td>\n      <td>0.200000</td>\n    </tr>\n    <tr>\n      <th>3</th>\n      <td>A1JMLEXBKC323A</td>\n      <td>5.0</td>\n      <td>1</td>\n      <td>2419</td>\n      <td>B000RGVPTC</td>\n      <td>53</td>\n      <td>10 Stars  HIGHLY RECOMMENDED  Seeing IS Belie...</td>\n      <td>Five Stars</td>\n      <td>0</td>\n      <td>0.5928</td>\n      <td>0.200000</td>\n    </tr>\n    <tr>\n      <th>4</th>\n      <td>A1S4Y9XTBI4JEO</td>\n      <td>5.0</td>\n      <td>1</td>\n      <td>1775</td>\n      <td>B0001XAO7A</td>\n      <td>54</td>\n      <td>Bowden's Masonry/Another Day Music/Designing ...</td>\n      <td>Five Stars</td>\n      <td>0</td>\n      <td>0.4215</td>\n      <td>0.000000</td>\n    </tr>\n  </tbody>\n</table>\n</div>",
       "datasetInfos": [],
       "metadata": {},
       "removedWidgets": [],
       "textData": null,
       "type": "htmlSandbox"
      }
     },
     "output_type": "display_data"
    }
   ],
   "source": [
    "df1.head(5)"
   ]
  },
  {
   "cell_type": "code",
   "execution_count": 0,
   "metadata": {
    "application/vnd.databricks.v1+cell": {
     "cellMetadata": {},
     "inputWidgets": {},
     "nuid": "7d1d9d0c-1323-4c98-a3cb-f17c933c7649",
     "showTitle": false,
     "title": ""
    }
   },
   "outputs": [],
   "source": [
    "df1 = spark.createDataFrame(df1)"
   ]
  },
  {
   "cell_type": "code",
   "execution_count": 0,
   "metadata": {
    "application/vnd.databricks.v1+cell": {
     "cellMetadata": {},
     "inputWidgets": {},
     "nuid": "6a5cc5eb-9af9-47cb-a96c-e4ed0834f467",
     "showTitle": false,
     "title": "Spark NLP"
    }
   },
   "outputs": [
    {
     "output_type": "stream",
     "name": "stdout",
     "output_type": "stream",
     "text": [
      "lemma_antbnc download started this may take some time.\nApproximate size to download 907.6 KB\n\r[ | ]\r[OK!]\nlemma_antbnc download started this may take some time.\nApproximate size to download 907.6 KB\n\r[ | ]\r[OK!]\n"
     ]
    }
   ],
   "source": [
    "from sparknlp.base import *\n",
    "from sparknlp.annotator import *\n",
    "\n",
    "from pyspark.ml import Pipeline\n",
    "from pyspark.ml.feature import CountVectorizer, IDF, StringIndexer, VectorAssembler, OneHotEncoder, Imputer\n",
    "from pyspark.ml.classification import LogisticRegression\n",
    "from pyspark.ml.tuning import CrossValidator, ParamGridBuilder\n",
    "from pyspark.ml.evaluation import BinaryClassificationEvaluator\n",
    "\n",
    "# convert text column to spark nlp document\n",
    "document_assembler = DocumentAssembler() \\\n",
    "    .setInputCol(\"reviewText\") \\\n",
    "    .setOutputCol(\"document\")\n",
    "\n",
    "sentenceDetector = SentenceDetector() \\\n",
    "    .setInputCols([\"document\"]) \\\n",
    "    .setOutputCol(\"sentence\")\n",
    "\n",
    "# convert document to array of tokens\n",
    "regexTokenizer = RegexTokenizer() \\\n",
    "    .setInputCols([\"sentence\"]) \\\n",
    "    .setOutputCol(\"regexToken\") \\\n",
    "    .setToLowercase(True) \\\n",
    "    .setPattern(\"\\\\s+\")\n",
    " \n",
    "# clean tokens \n",
    "normalizer = Normalizer() \\\n",
    "    .setInputCols([\"regexToken\"]) \\\n",
    "    .setOutputCol(\"normalized\")\n",
    "\n",
    "# # remove stopwords\n",
    "stopwords_cleaner = StopWordsCleaner()\\\n",
    "      .setInputCols([\"normalized\"])\\\n",
    "      .setOutputCol(\"cleanTokens\")\\\n",
    "      .setCaseSensitive(False)\n",
    "\n",
    "lemmatizer = LemmatizerModel.pretrained() \\\n",
    ".setInputCols([\"cleanTokens\"]) \\\n",
    ".setOutputCol(\"lemma\")\n",
    "\n",
    "# Convert custom document structure to array of tokens.\n",
    "finisher = Finisher() \\\n",
    "    .setInputCols([\"lemma\"]) \\\n",
    "    .setOutputCols(\"token_features\") \\\n",
    "    .setOutputAsArray(True) \\\n",
    "    .setCleanAnnotations(False)\n",
    "\n",
    "countVectors = CountVectorizer(inputCol=\"token_features\",\n",
    "                               outputCol=\"features\", \n",
    "                               vocabSize=10000, \n",
    "                               minTF=1,\n",
    "                               minDF=50,\n",
    "                               maxDF=0.40)\n",
    "\n",
    "idf = IDF(inputCol=countVectors.getOutputCol(), \n",
    "          outputCol=\"idfFeatures\") #IDF\n",
    "\n",
    "#####################################################################################\n",
    "# for summary\n",
    "# convert text column to spark nlp document\n",
    "document_assembler_s = DocumentAssembler() \\\n",
    "    .setInputCol(\"summary\") \\\n",
    "    .setOutputCol(\"document_s\")\n",
    "\n",
    "sentenceDetector_s = SentenceDetector() \\\n",
    "    .setInputCols([\"document_s\"]) \\\n",
    "    .setOutputCol(\"sentence_s\")\n",
    "\n",
    "# convert document to array of tokens\n",
    "regexTokenizer_s = RegexTokenizer() \\\n",
    "    .setInputCols([\"sentence_s\"]) \\\n",
    "    .setOutputCol(\"regexToken_s\") \\\n",
    "    .setToLowercase(True) \\\n",
    "    .setPattern(\"\\\\s+\")\n",
    " \n",
    "# clean tokens \n",
    "normalizer_s = Normalizer() \\\n",
    "    .setInputCols([\"regexToken_s\"]) \\\n",
    "    .setOutputCol(\"normalized_s\")\n",
    "\n",
    "# # remove stopwords\n",
    "stopwords_cleaner_s = StopWordsCleaner()\\\n",
    "      .setInputCols([\"normalized_s\"])\\\n",
    "      .setOutputCol(\"cleanTokens_s\")\\\n",
    "      .setCaseSensitive(False)\n",
    "\n",
    "lemmatizer_s = LemmatizerModel.pretrained() \\\n",
    ".setInputCols([\"cleanTokens_s\"]) \\\n",
    ".setOutputCol(\"lemma_s\")\n",
    "\n",
    "# Convert custom document structure to array of tokens.\n",
    "finisher_s = Finisher() \\\n",
    "    .setInputCols([\"lemma_s\"]) \\\n",
    "    .setOutputCols(\"token_features_s\") \\\n",
    "    .setOutputAsArray(True) \\\n",
    "    .setCleanAnnotations(False)\n",
    "\n",
    "countVectors_s = CountVectorizer(inputCol=\"token_features_s\",\n",
    "                               outputCol=\"features_s\", \n",
    "                               vocabSize=10000, \n",
    "                               minTF=1,\n",
    "                               minDF=50,\n",
    "                               maxDF=0.40)\n",
    "\n",
    "idf_s = IDF(inputCol=countVectors_s.getOutputCol(), \n",
    "          outputCol=\"idfFeatures_s\") #IDF\n",
    "\n",
    "#####################################################################################\n",
    "\n",
    "# impute missing values\n",
    "imputer = Imputer(inputCols=[\"overall\", \"verifiedInt\", \"datediff\"],\n",
    "                  outputCols=[\"imputedOverall\", \"imputedVerifiedInt\", \"imputedDatediff\"])\n",
    "\n",
    "# Encode a string column to a label indices\n",
    "indexer = StringIndexer(inputCols=[\"imputedOverall\", \"asin\"],\n",
    "                        outputCols=[\"overallIndex\", \"asinIndex\"]).setHandleInvalid(\"keep\")\n",
    "\n",
    "# Encode asin (productID)\n",
    "encoder = OneHotEncoder(inputCols=[\"overallIndex\", \"imputedVerifiedInt\", \"length\", \"asinIndex\", \"imputedDatediff\"],\n",
    "                        outputCols=[\"encodedOverall\", \"encodedVerified\", \"encodedLength\", \"encodedAsin\", \"encodedDatediff\"])\n",
    "\n",
    "# Combine all features into one final \"features\" column\n",
    "assembler = VectorAssembler(inputCols=[\"encodedOverall\",\"encodedVerified\", \"encodedLength\", \"encodedAsin\", \"encodedDatediff\", \"idfFeatures\", \"idfFeatures_s\",\"compound_score\", \"polarity_score\"],\n",
    "                            outputCol=\"assembledFeatures\")\n",
    "\n",
    "# ML Algorithm\n",
    "lr = LogisticRegression(featuresCol = \"assembledFeatures\",\n",
    "                        maxIter=300, \n",
    "                        regParam=0.01, \n",
    "                        elasticNetParam=0.0)\n",
    "\n",
    "# Pipeline\n",
    "nlp_pipeline = Pipeline(\n",
    "    stages=[document_assembler,\n",
    "            sentenceDetector,\n",
    "            regexTokenizer,\n",
    "            normalizer,\n",
    "            stopwords_cleaner,\n",
    "            lemmatizer, \n",
    "            finisher,\n",
    "            countVectors,\n",
    "            idf,\n",
    "            document_assembler_s,\n",
    "            sentenceDetector_s,\n",
    "            regexTokenizer_s,\n",
    "            normalizer_s,\n",
    "            stopwords_cleaner_s,\n",
    "            lemmatizer_s, \n",
    "            finisher_s,\n",
    "            countVectors_s,\n",
    "            idf_s,\n",
    "            imputer,\n",
    "            indexer,\n",
    "            encoder,\n",
    "            assembler,\n",
    "            lr])"
   ]
  },
  {
   "cell_type": "code",
   "execution_count": 0,
   "metadata": {
    "application/vnd.databricks.v1+cell": {
     "cellMetadata": {},
     "inputWidgets": {},
     "nuid": "2c5b5a38-6b39-4b3a-b6bb-b0897ce47221",
     "showTitle": true,
     "title": "Splitting data into training/testing sets"
    }
   },
   "outputs": [],
   "source": [
    "#  # train/test split\n",
    "# (trainingData, testingData) = df1.randomSplit([0.85,0.15], seed=47)\n",
    "# print(\"Training Dataset Count: \" + str(trainingData.count()))\n",
    "# print(\"Test Dataset Count: \" + str(testingData.count()))"
   ]
  },
  {
   "cell_type": "code",
   "execution_count": 0,
   "metadata": {
    "application/vnd.databricks.v1+cell": {
     "cellMetadata": {},
     "inputWidgets": {},
     "nuid": "e5f1edf2-b792-42be-9e07-6685ff3cc06d",
     "showTitle": true,
     "title": "Transform Full Data"
    }
   },
   "outputs": [],
   "source": [
    "pipeline_model = nlp_pipeline.fit(df1)"
   ]
  },
  {
   "cell_type": "code",
   "execution_count": 0,
   "metadata": {
    "application/vnd.databricks.v1+cell": {
     "cellMetadata": {},
     "inputWidgets": {},
     "nuid": "c22c29a7-a1de-408c-9c5c-053647655dfa",
     "showTitle": true,
     "title": "Predictions on Kaggle Test Data"
    }
   },
   "outputs": [
    {
     "output_type": "stream",
     "name": "stdout",
     "output_type": "stream",
     "text": [
      "(348621, 10)\n"
     ]
    }
   ],
   "source": [
    "# Load test datasets\n",
    "test_df = spark.sql(\"select * from default.reviews_test\")\n",
    "# test_df.show(5)\n",
    "print((test_df.count(), len(test_df.columns)))"
   ]
  },
  {
   "cell_type": "code",
   "execution_count": 0,
   "metadata": {
    "application/vnd.databricks.v1+cell": {
     "cellMetadata": {},
     "inputWidgets": {},
     "nuid": "63eeb4ed-7609-49d7-8e5e-7014c182717e",
     "showTitle": false,
     "title": ""
    }
   },
   "outputs": [],
   "source": [
    "test_df = test_df.withColumn(\"reviewTime\", to_date(from_unixtime(test_df.unixReviewTime))) \\\n",
    "                                                .drop(\"unixReviewTime\")\n",
    "\n",
    "test_df = test_df.withColumn(\"length\", length(\"reviewText\"))\n",
    "\n",
    "# create a new column with current_date\n",
    "test_df.withColumn(\"current_date\", current_date())\n",
    "\n",
    "# returns the number of days between current date and review time\n",
    "test_df = test_df.withColumn(\"datediff\", datediff(col(\"current_date\"), col(\"reviewTime\")))\n",
    "\n",
    "test_df = test_df.withColumn(\"verifiedInt\", functions.col(\"verified\").cast(\"int\")).drop(\"verified\")"
   ]
  },
  {
   "cell_type": "code",
   "execution_count": 0,
   "metadata": {
    "application/vnd.databricks.v1+cell": {
     "cellMetadata": {},
     "inputWidgets": {},
     "nuid": "b7a0134e-188d-4c89-a3ec-e79ce88ebb2b",
     "showTitle": false,
     "title": ""
    }
   },
   "outputs": [],
   "source": [
    "test_df = test_df.select(\"reviewID\", \"overall\",\"verifiedInt\",\"datediff\",\"asin\",\"reviewerID\",\"length\",\"reviewText\", \"summary\")"
   ]
  },
  {
   "cell_type": "code",
   "execution_count": 0,
   "metadata": {
    "application/vnd.databricks.v1+cell": {
     "cellMetadata": {},
     "inputWidgets": {},
     "nuid": "0bcd0fae-2a09-4a50-a671-58379890ec17",
     "showTitle": true,
     "title": "Kaggle Compound Score"
    }
   },
   "outputs": [],
   "source": [
    "test_df=test_df.toPandas()\n",
    "test_df['compound_score'] = test_df['reviewText'].apply(lambda x: check_compound(x))"
   ]
  },
  {
   "cell_type": "code",
   "execution_count": 0,
   "metadata": {
    "application/vnd.databricks.v1+cell": {
     "cellMetadata": {},
     "inputWidgets": {},
     "nuid": "e2e4b74d-dbf3-45fa-8954-6011033d6356",
     "showTitle": true,
     "title": "Kaggle Polarity Score"
    }
   },
   "outputs": [],
   "source": [
    "test_df['polarity_score'] = test_df['reviewText'].apply(lambda x: check_polarity(x))"
   ]
  },
  {
   "cell_type": "code",
   "execution_count": 0,
   "metadata": {
    "application/vnd.databricks.v1+cell": {
     "cellMetadata": {},
     "inputWidgets": {},
     "nuid": "01338bd0-2894-4dac-b028-1142cdd70632",
     "showTitle": false,
     "title": ""
    }
   },
   "outputs": [],
   "source": [
    "test_df = spark.createDataFrame(test_df)"
   ]
  },
  {
   "cell_type": "code",
   "execution_count": 0,
   "metadata": {
    "application/vnd.databricks.v1+cell": {
     "cellMetadata": {},
     "inputWidgets": {},
     "nuid": "77cbdf50-1658-4e43-b873-fa60a476ec98",
     "showTitle": false,
     "title": ""
    }
   },
   "outputs": [],
   "source": [
    "kaggle_pred = pipeline_model.transform(test_df)"
   ]
  },
  {
   "cell_type": "code",
   "execution_count": 0,
   "metadata": {
    "application/vnd.databricks.v1+cell": {
     "cellMetadata": {},
     "inputWidgets": {},
     "nuid": "3ad20f12-9f85-447b-bca2-026b5931ea24",
     "showTitle": false,
     "title": ""
    }
   },
   "outputs": [],
   "source": [
    "from pyspark.sql.functions import udf\n",
    "from pyspark.sql.types import FloatType\n",
    "\n",
    "probelement=udf(lambda v:float(v[1]),FloatType())\n",
    "submission_data = kaggle_pred.select('reviewID', probelement('probability')).withColumnRenamed('<lambda>(probability)', 'label')"
   ]
  },
  {
   "cell_type": "code",
   "execution_count": 0,
   "metadata": {
    "application/vnd.databricks.v1+cell": {
     "cellMetadata": {},
     "inputWidgets": {},
     "nuid": "cd319b73-d7b5-4d15-b2e1-a9865c400353",
     "showTitle": false,
     "title": ""
    }
   },
   "outputs": [
    {
     "output_type": "display_data",
     "data": {
      "text/html": [
       "<style scoped>\n  .table-result-container {\n    max-height: 300px;\n    overflow: auto;\n  }\n  table, th, td {\n    border: 1px solid black;\n    border-collapse: collapse;\n  }\n  th, td {\n    padding: 5px;\n  }\n  th {\n    text-align: left;\n  }\n</style><div class='table-result-container'><table class='table-result'><thead style='background-color: white'><tr><th>reviewID</th><th>label</th></tr></thead><tbody><tr><td>80000001</td><td>0.010426694</td></tr><tr><td>80000002</td><td>0.05640943</td></tr><tr><td>80000003</td><td>0.016121844</td></tr><tr><td>80000004</td><td>0.19560656</td></tr><tr><td>80000005</td><td>0.7740162</td></tr><tr><td>80000006</td><td>0.42030618</td></tr><tr><td>80000007</td><td>0.12573153</td></tr><tr><td>80000008</td><td>0.16405371</td></tr><tr><td>80000009</td><td>0.095654555</td></tr><tr><td>80000010</td><td>0.84044164</td></tr><tr><td>80000011</td><td>0.5167011</td></tr><tr><td>80000012</td><td>0.0047627212</td></tr><tr><td>80000013</td><td>0.06410392</td></tr><tr><td>80000014</td><td>0.004077188</td></tr><tr><td>80000015</td><td>0.10065899</td></tr><tr><td>80000016</td><td>0.0026669523</td></tr><tr><td>80000017</td><td>0.009434282</td></tr><tr><td>80000018</td><td>0.08115128</td></tr><tr><td>80000019</td><td>0.4650737</td></tr><tr><td>80000020</td><td>0.08254829</td></tr><tr><td>80000021</td><td>0.052207034</td></tr><tr><td>80000022</td><td>0.20432124</td></tr><tr><td>80000023</td><td>0.1693573</td></tr><tr><td>80000024</td><td>0.3777023</td></tr><tr><td>80000025</td><td>0.7047071</td></tr><tr><td>80000026</td><td>0.42465734</td></tr><tr><td>80000027</td><td>0.056302473</td></tr><tr><td>80000028</td><td>0.073379606</td></tr><tr><td>80000029</td><td>0.01975702</td></tr><tr><td>80000030</td><td>0.013929041</td></tr><tr><td>80000031</td><td>0.12140263</td></tr><tr><td>80000032</td><td>0.3589696</td></tr><tr><td>80000033</td><td>0.13977864</td></tr><tr><td>80000034</td><td>0.4438756</td></tr><tr><td>80000035</td><td>0.5618034</td></tr><tr><td>80000036</td><td>0.002397017</td></tr><tr><td>80000037</td><td>0.025760612</td></tr><tr><td>80000038</td><td>0.12088626</td></tr><tr><td>80000039</td><td>0.05040365</td></tr><tr><td>80000040</td><td>0.015800122</td></tr><tr><td>80000041</td><td>0.12568824</td></tr><tr><td>80000042</td><td>0.025590958</td></tr><tr><td>80000043</td><td>0.034919202</td></tr><tr><td>80000044</td><td>0.022769967</td></tr><tr><td>80000045</td><td>0.044496387</td></tr><tr><td>80000046</td><td>0.0139718</td></tr><tr><td>80000047</td><td>0.047437724</td></tr><tr><td>80000048</td><td>0.04242478</td></tr><tr><td>80000049</td><td>0.039187673</td></tr><tr><td>80000050</td><td>0.10240205</td></tr><tr><td>80000051</td><td>0.79950917</td></tr><tr><td>80000052</td><td>0.22493921</td></tr><tr><td>80000053</td><td>0.22309142</td></tr><tr><td>80000054</td><td>0.38017133</td></tr><tr><td>80000055</td><td>0.13074113</td></tr><tr><td>80000056</td><td>0.30877307</td></tr><tr><td>80000057</td><td>0.09206613</td></tr><tr><td>80000058</td><td>0.20349401</td></tr><tr><td>80000059</td><td>0.61710864</td></tr><tr><td>80000060</td><td>0.003448019</td></tr><tr><td>80000061</td><td>0.028999794</td></tr><tr><td>80000062</td><td>0.822479</td></tr><tr><td>80000063</td><td>0.0067720953</td></tr><tr><td>80000064</td><td>0.90685505</td></tr><tr><td>80000065</td><td>0.0060341856</td></tr><tr><td>80000066</td><td>0.027709937</td></tr><tr><td>80000067</td><td>0.0026218102</td></tr><tr><td>80000068</td><td>0.756237</td></tr><tr><td>80000069</td><td>0.42024183</td></tr><tr><td>80000070</td><td>0.6363156</td></tr><tr><td>80000071</td><td>0.11309014</td></tr><tr><td>80000072</td><td>0.5824529</td></tr><tr><td>80000073</td><td>0.008961328</td></tr><tr><td>80000074</td><td>0.37563413</td></tr><tr><td>80000075</td><td>0.0030176966</td></tr><tr><td>80000076</td><td>0.0022583778</td></tr><tr><td>80000077</td><td>0.02035412</td></tr><tr><td>80000078</td><td>0.075154684</td></tr><tr><td>80000079</td><td>0.060500648</td></tr><tr><td>80000080</td><td>0.029642137</td></tr><tr><td>80000081</td><td>0.05640686</td></tr><tr><td>80000082</td><td>0.017292937</td></tr><tr><td>80000083</td><td>0.01458024</td></tr><tr><td>80000084</td><td>0.0072226184</td></tr><tr><td>80000085</td><td>0.022754395</td></tr><tr><td>80000086</td><td>0.0044814455</td></tr><tr><td>80000087</td><td>0.0038814319</td></tr><tr><td>80000088</td><td>0.014589544</td></tr><tr><td>80000089</td><td>0.09738453</td></tr><tr><td>80000090</td><td>0.0015631112</td></tr><tr><td>80000091</td><td>0.1730086</td></tr><tr><td>80000092</td><td>0.0020074511</td></tr><tr><td>80000093</td><td>0.04037656</td></tr><tr><td>80000094</td><td>0.10907628</td></tr><tr><td>80000095</td><td>0.18011807</td></tr><tr><td>80000096</td><td>0.1619101</td></tr><tr><td>80000097</td><td>0.03231114</td></tr><tr><td>80000098</td><td>0.10986213</td></tr><tr><td>80000099</td><td>0.08879035</td></tr><tr><td>80000100</td><td>0.02282397</td></tr><tr><td>80000101</td><td>0.102098666</td></tr><tr><td>80000102</td><td>0.10952634</td></tr><tr><td>80000103</td><td>0.13029885</td></tr><tr><td>80000104</td><td>0.0671108</td></tr><tr><td>80000105</td><td>0.08797443</td></tr><tr><td>80000106</td><td>0.006908623</td></tr><tr><td>80000107</td><td>0.09347834</td></tr><tr><td>80000108</td><td>0.015399145</td></tr><tr><td>80000109</td><td>0.01974521</td></tr><tr><td>80000110</td><td>0.09622625</td></tr><tr><td>80000111</td><td>0.0735448</td></tr><tr><td>80000112</td><td>0.41531673</td></tr><tr><td>80000113</td><td>0.09445925</td></tr><tr><td>80000114</td><td>0.03742302</td></tr><tr><td>80000115</td><td>0.010120164</td></tr><tr><td>80000116</td><td>0.016371263</td></tr><tr><td>80000117</td><td>0.5225777</td></tr><tr><td>80000118</td><td>0.13781953</td></tr><tr><td>80000119</td><td>0.13328819</td></tr><tr><td>80000120</td><td>0.008237103</td></tr><tr><td>80000121</td><td>0.0075212354</td></tr><tr><td>80000122</td><td>0.27452382</td></tr><tr><td>80000123</td><td>0.006304841</td></tr><tr><td>80000124</td><td>0.4180629</td></tr><tr><td>80000125</td><td>0.3779221</td></tr><tr><td>80000126</td><td>0.00853488</td></tr><tr><td>80000127</td><td>0.05167746</td></tr><tr><td>80000128</td><td>0.44238883</td></tr><tr><td>80000129</td><td>0.045999385</td></tr><tr><td>80000130</td><td>0.05950752</td></tr><tr><td>80000131</td><td>0.025887946</td></tr><tr><td>80000132</td><td>0.0024974917</td></tr><tr><td>80000133</td><td>0.003059974</td></tr><tr><td>80000134</td><td>0.14595452</td></tr><tr><td>80000135</td><td>0.003390017</td></tr><tr><td>80000136</td><td>0.1002563</td></tr><tr><td>80000137</td><td>0.312434</td></tr><tr><td>80000138</td><td>0.08182708</td></tr><tr><td>80000139</td><td>0.004425341</td></tr><tr><td>80000140</td><td>0.16283764</td></tr><tr><td>80000141</td><td>0.031837594</td></tr><tr><td>80000142</td><td>0.007451927</td></tr><tr><td>80000143</td><td>0.011187609</td></tr><tr><td>80000144</td><td>0.36668795</td></tr><tr><td>80000145</td><td>0.017597968</td></tr><tr><td>80000146</td><td>0.066131935</td></tr><tr><td>80000147</td><td>0.005198262</td></tr><tr><td>80000148</td><td>0.047410604</td></tr><tr><td>80000149</td><td>0.0108545115</td></tr><tr><td>80000150</td><td>0.021797333</td></tr><tr><td>80000151</td><td>0.50418067</td></tr><tr><td>80000152</td><td>0.024600683</td></tr><tr><td>80000153</td><td>0.10009852</td></tr><tr><td>80000154</td><td>0.047438506</td></tr><tr><td>80000155</td><td>0.011053984</td></tr><tr><td>80000156</td><td>0.023761285</td></tr><tr><td>80000157</td><td>0.7470828</td></tr><tr><td>80000158</td><td>0.055289492</td></tr><tr><td>80000159</td><td>0.2173222</td></tr><tr><td>80000160</td><td>0.02689881</td></tr><tr><td>80000161</td><td>0.59136814</td></tr><tr><td>80000162</td><td>0.6988483</td></tr><tr><td>80000163</td><td>0.038717203</td></tr><tr><td>80000164</td><td>0.0028231181</td></tr><tr><td>80000165</td><td>0.03329787</td></tr><tr><td>80000166</td><td>0.022507373</td></tr><tr><td>80000167</td><td>0.014350501</td></tr><tr><td>80000168</td><td>0.70973045</td></tr><tr><td>80000169</td><td>0.002742734</td></tr><tr><td>80000170</td><td>0.73234427</td></tr><tr><td>80000171</td><td>0.67808026</td></tr><tr><td>80000172</td><td>0.01411383</td></tr><tr><td>80000173</td><td>0.028417217</td></tr><tr><td>80000174</td><td>0.026608901</td></tr><tr><td>80000175</td><td>0.24265617</td></tr><tr><td>80000176</td><td>0.68420047</td></tr><tr><td>80000177</td><td>0.06502553</td></tr><tr><td>80000178</td><td>0.3898357</td></tr><tr><td>80000179</td><td>0.31684276</td></tr><tr><td>80000180</td><td>0.90915525</td></tr><tr><td>80000181</td><td>0.025414558</td></tr><tr><td>80000182</td><td>0.05879252</td></tr><tr><td>80000183</td><td>0.12954171</td></tr><tr><td>80000184</td><td>0.3806244</td></tr><tr><td>80000185</td><td>0.08674429</td></tr><tr><td>80000186</td><td>0.7721551</td></tr><tr><td>80000187</td><td>0.13592431</td></tr><tr><td>80000188</td><td>0.5238711</td></tr><tr><td>80000189</td><td>0.3484398</td></tr><tr><td>80000190</td><td>0.11984452</td></tr><tr><td>80000191</td><td>0.50448614</td></tr><tr><td>80000192</td><td>0.2510634</td></tr><tr><td>80000193</td><td>0.25200114</td></tr><tr><td>80000194</td><td>0.73017937</td></tr><tr><td>80000195</td><td>0.21812937</td></tr><tr><td>80000196</td><td>0.015656833</td></tr><tr><td>80000197</td><td>0.6878004</td></tr><tr><td>80000198</td><td>0.5650506</td></tr><tr><td>80000199</td><td>0.45977268</td></tr><tr><td>80000200</td><td>0.51123893</td></tr><tr><td>80000201</td><td>0.0022687786</td></tr><tr><td>80000202</td><td>0.94367045</td></tr><tr><td>80000203</td><td>0.004053389</td></tr><tr><td>80000204</td><td>0.5223939</td></tr><tr><td>80000205</td><td>0.038804643</td></tr><tr><td>80000206</td><td>0.24078868</td></tr><tr><td>80000207</td><td>0.006644578</td></tr><tr><td>80000208</td><td>0.0026172972</td></tr><tr><td>80000209</td><td>0.111138694</td></tr><tr><td>80000210</td><td>0.046057522</td></tr><tr><td>80000211</td><td>0.0028520012</td></tr><tr><td>80000212</td><td>0.030521713</td></tr><tr><td>80000213</td><td>0.11845964</td></tr><tr><td>80000214</td><td>0.08819239</td></tr><tr><td>80000215</td><td>0.01957607</td></tr><tr><td>80000216</td><td>0.024082467</td></tr><tr><td>80000217</td><td>0.023702215</td></tr><tr><td>80000218</td><td>0.020232057</td></tr><tr><td>80000219</td><td>0.17370273</td></tr><tr><td>80000220</td><td>0.039822914</td></tr><tr><td>80000221</td><td>0.0032923033</td></tr><tr><td>80000222</td><td>0.50241053</td></tr><tr><td>80000223</td><td>0.011155891</td></tr><tr><td>80000224</td><td>0.27896997</td></tr><tr><td>80000225</td><td>0.003972029</td></tr><tr><td>80000226</td><td>0.7229172</td></tr><tr><td>80000227</td><td>0.5161067</td></tr><tr><td>80000228</td><td>0.03813369</td></tr><tr><td>80000229</td><td>0.063084565</td></tr><tr><td>80000230</td><td>0.0089678755</td></tr><tr><td>80000231</td><td>0.0014399089</td></tr><tr><td>80000232</td><td>0.068565466</td></tr><tr><td>80000233</td><td>0.21850425</td></tr><tr><td>80000234</td><td>0.027127227</td></tr><tr><td>80000235</td><td>0.08578829</td></tr><tr><td>80000236</td><td>0.0091810515</td></tr><tr><td>80000237</td><td>0.07754728</td></tr><tr><td>80000238</td><td>0.02118561</td></tr><tr><td>80000239</td><td>0.13967954</td></tr><tr><td>80000240</td><td>0.03308621</td></tr><tr><td>80000241</td><td>0.0115506975</td></tr><tr><td>80000242</td><td>0.01010592</td></tr><tr><td>80000243</td><td>0.1469365</td></tr><tr><td>80000244</td><td>0.027910648</td></tr><tr><td>80000245</td><td>0.020201053</td></tr><tr><td>80000246</td><td>0.02464579</td></tr><tr><td>80000247</td><td>0.032991566</td></tr><tr><td>80000248</td><td>0.4935768</td></tr><tr><td>80000249</td><td>0.056401864</td></tr><tr><td>80000250</td><td>0.01688308</td></tr><tr><td>80000251</td><td>0.08645997</td></tr><tr><td>80000252</td><td>0.10781651</td></tr><tr><td>80000253</td><td>0.13248526</td></tr><tr><td>80000254</td><td>0.40558362</td></tr><tr><td>80000255</td><td>0.17254674</td></tr><tr><td>80000256</td><td>0.10177463</td></tr><tr><td>80000257</td><td>0.02768765</td></tr><tr><td>80000258</td><td>0.0052251173</td></tr><tr><td>80000259</td><td>0.078769766</td></tr><tr><td>80000260</td><td>0.15766248</td></tr><tr><td>80000261</td><td>0.023406098</td></tr><tr><td>80000262</td><td>0.06672995</td></tr><tr><td>80000263</td><td>0.07629003</td></tr><tr><td>80000264</td><td>0.34321645</td></tr><tr><td>80000265</td><td>0.76513046</td></tr><tr><td>80000266</td><td>0.018872106</td></tr><tr><td>80000267</td><td>0.16369474</td></tr><tr><td>80000268</td><td>0.009321865</td></tr><tr><td>80000269</td><td>0.2906761</td></tr><tr><td>80000270</td><td>0.67817694</td></tr><tr><td>80000271</td><td>0.004076445</td></tr><tr><td>80000272</td><td>0.11722509</td></tr><tr><td>80000273</td><td>0.14717875</td></tr><tr><td>80000274</td><td>0.45684385</td></tr><tr><td>80000275</td><td>0.95013493</td></tr><tr><td>80000276</td><td>0.7077977</td></tr><tr><td>80000277</td><td>0.36116982</td></tr><tr><td>80000278</td><td>0.071478635</td></tr><tr><td>80000279</td><td>0.22855331</td></tr><tr><td>80000280</td><td>0.008857163</td></tr><tr><td>80000281</td><td>0.009667211</td></tr><tr><td>80000282</td><td>0.85921985</td></tr><tr><td>80000283</td><td>0.0114748515</td></tr><tr><td>80000284</td><td>0.027634375</td></tr><tr><td>80000285</td><td>0.0187839</td></tr><tr><td>80000286</td><td>0.060212344</td></tr><tr><td>80000287</td><td>0.06603256</td></tr><tr><td>80000288</td><td>0.0010600094</td></tr><tr><td>80000289</td><td>0.016135538</td></tr><tr><td>80000290</td><td>0.016231803</td></tr><tr><td>80000291</td><td>0.01650597</td></tr><tr><td>80000292</td><td>0.0069788075</td></tr><tr><td>80000293</td><td>0.10183864</td></tr><tr><td>80000294</td><td>0.70671237</td></tr><tr><td>80000295</td><td>0.15410165</td></tr><tr><td>80000296</td><td>0.27043876</td></tr><tr><td>80000297</td><td>0.0046785385</td></tr><tr><td>80000298</td><td>0.9802743</td></tr><tr><td>80000299</td><td>0.0046432912</td></tr><tr><td>80000300</td><td>0.0035794752</td></tr><tr><td>80000301</td><td>0.16161862</td></tr><tr><td>80000302</td><td>0.85192424</td></tr><tr><td>80000303</td><td>0.29511464</td></tr><tr><td>80000304</td><td>0.07239879</td></tr><tr><td>80000305</td><td>0.00665198</td></tr><tr><td>80000306</td><td>0.21639605</td></tr><tr><td>80000307</td><td>0.080570936</td></tr><tr><td>80000308</td><td>0.18168776</td></tr><tr><td>80000309</td><td>0.48156485</td></tr><tr><td>80000310</td><td>0.9103701</td></tr><tr><td>80000311</td><td>0.0449215</td></tr><tr><td>80000312</td><td>0.041479584</td></tr><tr><td>80000313</td><td>0.43349165</td></tr><tr><td>80000314</td><td>0.14421915</td></tr><tr><td>80000315</td><td>0.2734644</td></tr><tr><td>80000316</td><td>0.37392482</td></tr><tr><td>80000317</td><td>0.7012728</td></tr><tr><td>80000318</td><td>0.7569642</td></tr><tr><td>80000319</td><td>0.039235312</td></tr><tr><td>80000320</td><td>0.08178858</td></tr><tr><td>80000321</td><td>0.5807527</td></tr><tr><td>80000322</td><td>0.31326097</td></tr><tr><td>80000323</td><td>0.52969307</td></tr><tr><td>80000324</td><td>6.0329476E-4</td></tr><tr><td>80000325</td><td>0.43855146</td></tr><tr><td>80000326</td><td>0.16022693</td></tr><tr><td>80000327</td><td>0.5402882</td></tr><tr><td>80000328</td><td>0.033255007</td></tr><tr><td>80000329</td><td>0.84538007</td></tr><tr><td>80000330</td><td>0.027690805</td></tr><tr><td>80000331</td><td>0.035471845</td></tr><tr><td>80000332</td><td>0.012292042</td></tr><tr><td>80000333</td><td>0.02813471</td></tr><tr><td>80000334</td><td>0.09674995</td></tr><tr><td>80000335</td><td>0.6522953</td></tr><tr><td>80000336</td><td>0.013616636</td></tr><tr><td>80000337</td><td>0.24327883</td></tr><tr><td>80000338</td><td>0.08685089</td></tr><tr><td>80000339</td><td>0.29125628</td></tr><tr><td>80000340</td><td>0.68308204</td></tr><tr><td>80000341</td><td>0.13233623</td></tr><tr><td>80000342</td><td>0.069088645</td></tr><tr><td>80000343</td><td>0.9604744</td></tr><tr><td>80000344</td><td>0.97523284</td></tr><tr><td>80000345</td><td>0.62199426</td></tr><tr><td>80000346</td><td>0.100996375</td></tr><tr><td>80000347</td><td>0.031122103</td></tr><tr><td>80000348</td><td>0.014849802</td></tr><tr><td>80000349</td><td>0.4122556</td></tr><tr><td>80000350</td><td>0.25454968</td></tr><tr><td>80000351</td><td>0.00865258</td></tr><tr><td>80000352</td><td>0.14357999</td></tr><tr><td>80000353</td><td>0.21246089</td></tr><tr><td>80000354</td><td>0.023845695</td></tr><tr><td>80000355</td><td>0.68665624</td></tr><tr><td>80000356</td><td>0.012417884</td></tr><tr><td>80000357</td><td>0.3203556</td></tr><tr><td>80000358</td><td>0.03529576</td></tr><tr><td>80000359</td><td>0.08980875</td></tr><tr><td>80000360</td><td>0.1960421</td></tr><tr><td>80000361</td><td>0.2580437</td></tr><tr><td>80000362</td><td>0.42762196</td></tr><tr><td>80000363</td><td>0.06620906</td></tr><tr><td>80000364</td><td>0.58611125</td></tr><tr><td>80000365</td><td>0.04409179</td></tr><tr><td>80000366</td><td>0.1717386</td></tr><tr><td>80000367</td><td>0.5250356</td></tr><tr><td>80000368</td><td>0.711307</td></tr><tr><td>80000369</td><td>0.31787127</td></tr><tr><td>80000370</td><td>0.066285595</td></tr><tr><td>80000371</td><td>0.06386053</td></tr><tr><td>80000372</td><td>0.0031155462</td></tr><tr><td>80000373</td><td>0.6390229</td></tr><tr><td>80000374</td><td>0.31590956</td></tr><tr><td>80000375</td><td>0.26312968</td></tr><tr><td>80000376</td><td>0.05445573</td></tr><tr><td>80000377</td><td>0.013094196</td></tr><tr><td>80000378</td><td>0.10244636</td></tr><tr><td>80000379</td><td>0.0015729751</td></tr><tr><td>80000380</td><td>0.002012882</td></tr><tr><td>80000381</td><td>0.6139908</td></tr><tr><td>80000382</td><td>0.003451989</td></tr><tr><td>80000383</td><td>0.56423765</td></tr><tr><td>80000384</td><td>0.015612839</td></tr><tr><td>80000385</td><td>0.7262101</td></tr><tr><td>80000386</td><td>0.14535432</td></tr><tr><td>80000387</td><td>0.52248514</td></tr><tr><td>80000388</td><td>0.005388706</td></tr><tr><td>80000389</td><td>0.006407394</td></tr><tr><td>80000390</td><td>0.09033816</td></tr><tr><td>80000391</td><td>0.01698092</td></tr><tr><td>80000392</td><td>0.42713517</td></tr><tr><td>80000393</td><td>0.106757894</td></tr><tr><td>80000394</td><td>0.08623233</td></tr><tr><td>80000395</td><td>0.112863846</td></tr><tr><td>80000396</td><td>0.73652375</td></tr><tr><td>80000397</td><td>0.03188302</td></tr><tr><td>80000398</td><td>0.047644682</td></tr><tr><td>80000399</td><td>0.9291162</td></tr><tr><td>80000400</td><td>0.008924139</td></tr><tr><td>80000401</td><td>0.15626524</td></tr><tr><td>80000402</td><td>0.043784052</td></tr><tr><td>80000403</td><td>0.5820581</td></tr><tr><td>80000404</td><td>0.011556695</td></tr><tr><td>80000405</td><td>0.014906481</td></tr><tr><td>80000406</td><td>0.0064840666</td></tr><tr><td>80000407</td><td>0.49332497</td></tr><tr><td>80000408</td><td>0.9784952</td></tr><tr><td>80000409</td><td>0.04069381</td></tr><tr><td>80000410</td><td>0.0076391273</td></tr><tr><td>80000411</td><td>0.059464924</td></tr><tr><td>80000412</td><td>0.008841193</td></tr><tr><td>80000413</td><td>0.037641734</td></tr><tr><td>80000414</td><td>0.046052426</td></tr><tr><td>80000415</td><td>0.003752721</td></tr><tr><td>80000416</td><td>0.0040043592</td></tr><tr><td>80000417</td><td>0.012499546</td></tr><tr><td>80000418</td><td>0.0035790738</td></tr><tr><td>80000419</td><td>0.03744813</td></tr><tr><td>80000420</td><td>0.009513014</td></tr><tr><td>80000421</td><td>0.02898921</td></tr><tr><td>80000422</td><td>0.00199613</td></tr><tr><td>80000423</td><td>0.013194553</td></tr><tr><td>80000424</td><td>0.014546723</td></tr><tr><td>80000425</td><td>0.0347956</td></tr><tr><td>80000426</td><td>0.0035078854</td></tr><tr><td>80000427</td><td>0.04550059</td></tr><tr><td>80000428</td><td>0.0013545295</td></tr><tr><td>80000429</td><td>0.057449274</td></tr><tr><td>80000430</td><td>0.057253644</td></tr><tr><td>80000431</td><td>0.010726636</td></tr><tr><td>80000432</td><td>0.0018765765</td></tr><tr><td>80000433</td><td>0.00323194</td></tr><tr><td>80000434</td><td>0.04270201</td></tr><tr><td>80000435</td><td>0.103406854</td></tr><tr><td>80000436</td><td>0.011827756</td></tr><tr><td>80000437</td><td>0.27418226</td></tr><tr><td>80000438</td><td>0.020136673</td></tr><tr><td>80000439</td><td>0.0673321</td></tr><tr><td>80000440</td><td>0.0034324166</td></tr><tr><td>80000441</td><td>0.32412606</td></tr><tr><td>80000442</td><td>0.003898462</td></tr><tr><td>80000443</td><td>0.0044950526</td></tr><tr><td>80000444</td><td>0.74935234</td></tr><tr><td>80000445</td><td>0.008462238</td></tr><tr><td>80000446</td><td>0.0031141345</td></tr><tr><td>80000447</td><td>0.088452004</td></tr><tr><td>80000448</td><td>0.9129805</td></tr><tr><td>80000449</td><td>0.045147277</td></tr><tr><td>80000450</td><td>0.34112123</td></tr><tr><td>80000451</td><td>0.004458702</td></tr><tr><td>80000452</td><td>0.5364834</td></tr><tr><td>80000453</td><td>0.02962652</td></tr><tr><td>80000454</td><td>0.0030999954</td></tr><tr><td>80000455</td><td>0.6662857</td></tr><tr><td>80000456</td><td>0.5655174</td></tr><tr><td>80000457</td><td>0.13098462</td></tr><tr><td>80000458</td><td>0.044222232</td></tr><tr><td>80000459</td><td>0.13583313</td></tr><tr><td>80000460</td><td>0.0073798453</td></tr><tr><td>80000461</td><td>0.2940585</td></tr><tr><td>80000462</td><td>0.30119574</td></tr><tr><td>80000463</td><td>0.033010274</td></tr><tr><td>80000464</td><td>0.023336465</td></tr><tr><td>80000465</td><td>0.20294592</td></tr><tr><td>80000466</td><td>0.012486917</td></tr><tr><td>80000467</td><td>0.0022900305</td></tr><tr><td>80000468</td><td>0.0055606808</td></tr><tr><td>80000469</td><td>0.09868428</td></tr><tr><td>80000470</td><td>0.0018381749</td></tr><tr><td>80000471</td><td>0.00849609</td></tr><tr><td>80000472</td><td>0.007003727</td></tr><tr><td>80000473</td><td>0.0048515582</td></tr><tr><td>80000474</td><td>0.050001737</td></tr><tr><td>80000475</td><td>0.27743483</td></tr><tr><td>80000476</td><td>0.049015976</td></tr><tr><td>80000477</td><td>0.1302419</td></tr><tr><td>80000478</td><td>0.019904118</td></tr><tr><td>80000479</td><td>0.011578259</td></tr><tr><td>80000480</td><td>0.0073902784</td></tr><tr><td>80000481</td><td>0.005796982</td></tr><tr><td>80000482</td><td>0.007337969</td></tr><tr><td>80000483</td><td>0.5260799</td></tr><tr><td>80000484</td><td>0.0022846882</td></tr><tr><td>80000485</td><td>0.006296509</td></tr><tr><td>80000486</td><td>0.011722727</td></tr><tr><td>80000487</td><td>0.016371112</td></tr><tr><td>80000488</td><td>0.002568195</td></tr><tr><td>80000489</td><td>0.013059827</td></tr><tr><td>80000490</td><td>0.447893</td></tr><tr><td>80000491</td><td>0.062176276</td></tr><tr><td>80000492</td><td>0.0025511065</td></tr><tr><td>80000493</td><td>0.0023022473</td></tr><tr><td>80000494</td><td>0.049888454</td></tr><tr><td>80000495</td><td>0.19969723</td></tr><tr><td>80000496</td><td>0.056165576</td></tr><tr><td>80000497</td><td>0.24839683</td></tr><tr><td>80000498</td><td>0.007617237</td></tr><tr><td>80000499</td><td>0.7283488</td></tr><tr><td>80000500</td><td>0.0027884736</td></tr><tr><td>80000501</td><td>0.0019974995</td></tr><tr><td>80000502</td><td>0.6532498</td></tr><tr><td>80000503</td><td>0.025079442</td></tr><tr><td>80000504</td><td>0.0019375101</td></tr><tr><td>80000505</td><td>0.0023287016</td></tr><tr><td>80000506</td><td>0.00399269</td></tr><tr><td>80000507</td><td>0.013927801</td></tr><tr><td>80000508</td><td>0.002200952</td></tr><tr><td>80000509</td><td>0.02335712</td></tr><tr><td>80000510</td><td>0.018454403</td></tr><tr><td>80000511</td><td>0.085272945</td></tr><tr><td>80000512</td><td>0.045989152</td></tr><tr><td>80000513</td><td>0.004758963</td></tr><tr><td>80000514</td><td>0.029559873</td></tr><tr><td>80000515</td><td>0.025308086</td></tr><tr><td>80000516</td><td>0.013986211</td></tr><tr><td>80000517</td><td>0.00292947</td></tr><tr><td>80000518</td><td>0.006871197</td></tr><tr><td>80000519</td><td>0.028457278</td></tr><tr><td>80000520</td><td>0.29532173</td></tr><tr><td>80000521</td><td>0.016797317</td></tr><tr><td>80000522</td><td>0.0054160045</td></tr><tr><td>80000523</td><td>0.011463938</td></tr><tr><td>80000524</td><td>0.16057472</td></tr><tr><td>80000525</td><td>0.1889044</td></tr><tr><td>80000526</td><td>0.03988957</td></tr><tr><td>80000527</td><td>0.44542074</td></tr><tr><td>80000528</td><td>0.037043635</td></tr><tr><td>80000529</td><td>0.038738403</td></tr><tr><td>80000530</td><td>0.17338596</td></tr><tr><td>80000531</td><td>0.002572854</td></tr><tr><td>80000532</td><td>0.004418218</td></tr><tr><td>80000533</td><td>0.00146903</td></tr><tr><td>80000534</td><td>0.009875616</td></tr><tr><td>80000535</td><td>0.0023598468</td></tr><tr><td>80000536</td><td>0.059914034</td></tr><tr><td>80000537</td><td>0.002241611</td></tr><tr><td>80000538</td><td>0.14019911</td></tr><tr><td>80000539</td><td>0.026063299</td></tr><tr><td>80000540</td><td>0.067729756</td></tr><tr><td>80000541</td><td>0.18610007</td></tr><tr><td>80000542</td><td>0.0018496257</td></tr><tr><td>80000543</td><td>0.12311325</td></tr><tr><td>80000544</td><td>0.0019258412</td></tr><tr><td>80000545</td><td>0.036527276</td></tr><tr><td>80000546</td><td>8.948527E-4</td></tr><tr><td>80000547</td><td>0.007212526</td></tr><tr><td>80000548</td><td>0.2873396</td></tr><tr><td>80000549</td><td>0.0011175402</td></tr><tr><td>80000550</td><td>0.0011743443</td></tr><tr><td>80000551</td><td>0.12806493</td></tr><tr><td>80000552</td><td>7.9345104E-4</td></tr><tr><td>80000553</td><td>9.0685027E-4</td></tr><tr><td>80000554</td><td>0.008751132</td></tr><tr><td>80000555</td><td>0.23929316</td></tr><tr><td>80000556</td><td>0.14846419</td></tr><tr><td>80000557</td><td>0.0149704</td></tr><tr><td>80000558</td><td>0.3802043</td></tr><tr><td>80000559</td><td>0.22936782</td></tr><tr><td>80000560</td><td>0.42041397</td></tr><tr><td>80000561</td><td>0.007269443</td></tr><tr><td>80000562</td><td>0.46292558</td></tr><tr><td>80000563</td><td>0.03179184</td></tr><tr><td>80000564</td><td>0.09646043</td></tr><tr><td>80000565</td><td>0.034590356</td></tr><tr><td>80000566</td><td>0.0077600875</td></tr><tr><td>80000567</td><td>0.022708632</td></tr><tr><td>80000568</td><td>0.017380532</td></tr><tr><td>80000569</td><td>0.119326375</td></tr><tr><td>80000570</td><td>0.013633251</td></tr><tr><td>80000571</td><td>0.0064254804</td></tr><tr><td>80000572</td><td>0.009344656</td></tr><tr><td>80000573</td><td>0.0020581847</td></tr><tr><td>80000574</td><td>0.04227396</td></tr><tr><td>80000575</td><td>0.01824448</td></tr><tr><td>80000576</td><td>0.08095259</td></tr><tr><td>80000577</td><td>0.021000724</td></tr><tr><td>80000578</td><td>0.48722118</td></tr><tr><td>80000579</td><td>0.004534243</td></tr><tr><td>80000580</td><td>0.017669411</td></tr><tr><td>80000581</td><td>0.19920474</td></tr><tr><td>80000582</td><td>0.011464156</td></tr><tr><td>80000583</td><td>0.015265786</td></tr><tr><td>80000584</td><td>0.025378989</td></tr><tr><td>80000585</td><td>0.59929365</td></tr><tr><td>80000586</td><td>0.06543517</td></tr><tr><td>80000587</td><td>0.014195498</td></tr><tr><td>80000588</td><td>0.1152482</td></tr><tr><td>80000589</td><td>0.044678487</td></tr><tr><td>80000590</td><td>0.051062036</td></tr><tr><td>80000591</td><td>0.0017933705</td></tr><tr><td>80000592</td><td>0.008422279</td></tr><tr><td>80000593</td><td>0.017290931</td></tr><tr><td>80000594</td><td>0.02083802</td></tr><tr><td>80000595</td><td>0.2032834</td></tr><tr><td>80000596</td><td>0.12160873</td></tr><tr><td>80000597</td><td>0.011868453</td></tr><tr><td>80000598</td><td>0.012437412</td></tr><tr><td>80000599</td><td>0.030404381</td></tr><tr><td>80000600</td><td>0.035957053</td></tr><tr><td>80000601</td><td>0.030172756</td></tr><tr><td>80000602</td><td>0.051071018</td></tr><tr><td>80000603</td><td>0.007462507</td></tr><tr><td>80000604</td><td>0.018292883</td></tr><tr><td>80000605</td><td>0.021071635</td></tr><tr><td>80000606</td><td>0.09292468</td></tr><tr><td>80000607</td><td>0.004039516</td></tr><tr><td>80000608</td><td>0.13532197</td></tr><tr><td>80000609</td><td>0.055229004</td></tr><tr><td>80000610</td><td>0.012960011</td></tr><tr><td>80000611</td><td>0.6294109</td></tr><tr><td>80000612</td><td>0.0077547273</td></tr><tr><td>80000613</td><td>0.0064947843</td></tr><tr><td>80000614</td><td>0.08388664</td></tr><tr><td>80000615</td><td>0.32121813</td></tr><tr><td>80000616</td><td>0.08640607</td></tr><tr><td>80000617</td><td>0.3216276</td></tr><tr><td>80000618</td><td>0.016869722</td></tr><tr><td>80000619</td><td>0.044354364</td></tr><tr><td>80000620</td><td>0.47105622</td></tr><tr><td>80000621</td><td>0.34957516</td></tr><tr><td>80000622</td><td>0.014097129</td></tr><tr><td>80000623</td><td>0.2786286</td></tr><tr><td>80000624</td><td>0.14341755</td></tr><tr><td>80000625</td><td>0.007836623</td></tr><tr><td>80000626</td><td>0.01289523</td></tr><tr><td>80000627</td><td>0.1263514</td></tr><tr><td>80000628</td><td>0.0064599197</td></tr><tr><td>80000629</td><td>0.006419733</td></tr><tr><td>80000630</td><td>0.002971181</td></tr><tr><td>80000631</td><td>0.009985877</td></tr><tr><td>80000632</td><td>0.0028103485</td></tr><tr><td>80000633</td><td>0.004314012</td></tr><tr><td>80000634</td><td>0.6500367</td></tr><tr><td>80000635</td><td>0.6798715</td></tr><tr><td>80000636</td><td>0.33718723</td></tr><tr><td>80000637</td><td>0.042868245</td></tr><tr><td>80000638</td><td>0.32159472</td></tr><tr><td>80000639</td><td>0.36096248</td></tr><tr><td>80000640</td><td>0.012735726</td></tr><tr><td>80000641</td><td>0.06299271</td></tr><tr><td>80000642</td><td>0.012739057</td></tr><tr><td>80000643</td><td>0.050827436</td></tr><tr><td>80000644</td><td>0.031445686</td></tr><tr><td>80000645</td><td>0.5683626</td></tr><tr><td>80000646</td><td>0.024102937</td></tr><tr><td>80000647</td><td>0.6988213</td></tr><tr><td>80000648</td><td>0.0017440559</td></tr><tr><td>80000649</td><td>0.032164566</td></tr><tr><td>80000650</td><td>0.09711464</td></tr><tr><td>80000651</td><td>0.065535046</td></tr><tr><td>80000652</td><td>0.05467973</td></tr><tr><td>80000653</td><td>0.021977944</td></tr><tr><td>80000654</td><td>0.07778952</td></tr><tr><td>80000655</td><td>0.28044653</td></tr><tr><td>80000656</td><td>0.015892502</td></tr><tr><td>80000657</td><td>0.044082914</td></tr><tr><td>80000658</td><td>0.002637377</td></tr><tr><td>80000659</td><td>0.006380198</td></tr><tr><td>80000660</td><td>0.08228822</td></tr><tr><td>80000661</td><td>0.16446663</td></tr><tr><td>80000662</td><td>0.0551364</td></tr><tr><td>80000663</td><td>0.36826828</td></tr><tr><td>80000664</td><td>0.8999201</td></tr><tr><td>80000665</td><td>0.0070926175</td></tr><tr><td>80000666</td><td>0.00616985</td></tr><tr><td>80000667</td><td>0.06143908</td></tr><tr><td>80000668</td><td>0.086715326</td></tr><tr><td>80000669</td><td>0.0075116833</td></tr><tr><td>80000670</td><td>0.010243208</td></tr><tr><td>80000671</td><td>0.004816245</td></tr><tr><td>80000672</td><td>0.083730996</td></tr><tr><td>80000673</td><td>0.0048018657</td></tr><tr><td>80000674</td><td>0.025878368</td></tr><tr><td>80000675</td><td>0.04172836</td></tr><tr><td>80000676</td><td>0.032842323</td></tr><tr><td>80000677</td><td>0.009439222</td></tr><tr><td>80000678</td><td>0.037043747</td></tr><tr><td>80000679</td><td>0.11208954</td></tr><tr><td>80000680</td><td>0.013674988</td></tr><tr><td>80000681</td><td>0.057741683</td></tr><tr><td>80000682</td><td>0.023011787</td></tr><tr><td>80000683</td><td>0.0018455351</td></tr><tr><td>80000684</td><td>0.043941524</td></tr><tr><td>80000685</td><td>0.0054099583</td></tr><tr><td>80000686</td><td>0.002786893</td></tr><tr><td>80000687</td><td>0.02950367</td></tr><tr><td>80000688</td><td>0.4585055</td></tr><tr><td>80000689</td><td>0.22639985</td></tr><tr><td>80000690</td><td>0.7769626</td></tr><tr><td>80000691</td><td>0.13762814</td></tr><tr><td>80000692</td><td>0.88294363</td></tr><tr><td>80000693</td><td>0.010746175</td></tr><tr><td>80000694</td><td>0.012901455</td></tr><tr><td>80000695</td><td>0.0073752734</td></tr><tr><td>80000696</td><td>0.0067645535</td></tr><tr><td>80000697</td><td>0.0802764</td></tr><tr><td>80000698</td><td>0.010518952</td></tr><tr><td>80000699</td><td>0.010284836</td></tr><tr><td>80000700</td><td>0.042072333</td></tr><tr><td>80000701</td><td>0.028155725</td></tr><tr><td>80000702</td><td>0.08302378</td></tr><tr><td>80000703</td><td>0.12478833</td></tr><tr><td>80000704</td><td>0.15846781</td></tr><tr><td>80000705</td><td>0.12851772</td></tr><tr><td>80000706</td><td>0.8070602</td></tr><tr><td>80000707</td><td>0.005031859</td></tr><tr><td>80000708</td><td>0.016792996</td></tr><tr><td>80000709</td><td>0.8033122</td></tr><tr><td>80000710</td><td>0.53752697</td></tr><tr><td>80000711</td><td>0.15521075</td></tr><tr><td>80000712</td><td>0.0069292146</td></tr><tr><td>80000713</td><td>0.73718786</td></tr><tr><td>80000714</td><td>0.16551062</td></tr><tr><td>80000715</td><td>0.9920225</td></tr><tr><td>80000716</td><td>0.8661551</td></tr><tr><td>80000717</td><td>0.043566056</td></tr><tr><td>80000718</td><td>0.46651554</td></tr><tr><td>80000719</td><td>0.14675756</td></tr><tr><td>80000720</td><td>0.31250012</td></tr><tr><td>80000721</td><td>0.006421676</td></tr><tr><td>80000722</td><td>0.057232354</td></tr><tr><td>80000723</td><td>0.1582652</td></tr><tr><td>80000724</td><td>0.041283507</td></tr><tr><td>80000725</td><td>0.010392542</td></tr><tr><td>80000726</td><td>0.2508697</td></tr><tr><td>80000727</td><td>0.01911663</td></tr><tr><td>80000728</td><td>0.04802294</td></tr><tr><td>80000729</td><td>0.035979904</td></tr><tr><td>80000730</td><td>0.3969795</td></tr><tr><td>80000731</td><td>0.2506681</td></tr><tr><td>80000732</td><td>0.15003283</td></tr><tr><td>80000733</td><td>0.18581007</td></tr><tr><td>80000734</td><td>0.10823324</td></tr><tr><td>80000735</td><td>0.0039976556</td></tr><tr><td>80000736</td><td>0.050935876</td></tr><tr><td>80000737</td><td>0.47432703</td></tr><tr><td>80000738</td><td>0.16343701</td></tr><tr><td>80000739</td><td>0.11531837</td></tr><tr><td>80000740</td><td>0.014211393</td></tr><tr><td>80000741</td><td>0.007341465</td></tr><tr><td>80000742</td><td>0.051437456</td></tr><tr><td>80000743</td><td>0.0036881901</td></tr><tr><td>80000744</td><td>0.16534376</td></tr><tr><td>80000745</td><td>0.009007305</td></tr><tr><td>80000746</td><td>0.0032375576</td></tr><tr><td>80000747</td><td>0.033418022</td></tr><tr><td>80000748</td><td>0.007795542</td></tr><tr><td>80000749</td><td>0.044401746</td></tr><tr><td>80000750</td><td>0.00993274</td></tr><tr><td>80000751</td><td>0.103832714</td></tr><tr><td>80000752</td><td>0.59999895</td></tr><tr><td>80000753</td><td>0.647919</td></tr><tr><td>80000754</td><td>0.0141684925</td></tr><tr><td>80000755</td><td>0.36914665</td></tr><tr><td>80000756</td><td>0.3746092</td></tr><tr><td>80000757</td><td>0.03971774</td></tr><tr><td>80000758</td><td>0.73363966</td></tr><tr><td>80000759</td><td>0.14244938</td></tr><tr><td>80000760</td><td>0.421964</td></tr><tr><td>80000761</td><td>0.1013099</td></tr><tr><td>80000762</td><td>0.031382035</td></tr><tr><td>80000763</td><td>0.014933119</td></tr><tr><td>80000764</td><td>0.19785768</td></tr><tr><td>80000765</td><td>0.46067488</td></tr><tr><td>80000766</td><td>0.004950771</td></tr><tr><td>80000767</td><td>0.049761534</td></tr><tr><td>80000768</td><td>0.047336884</td></tr><tr><td>80000769</td><td>0.012702305</td></tr><tr><td>80000770</td><td>0.035030086</td></tr><tr><td>80000771</td><td>0.15207542</td></tr><tr><td>80000772</td><td>0.58829963</td></tr><tr><td>80000773</td><td>0.2688996</td></tr><tr><td>80000774</td><td>0.05029481</td></tr><tr><td>80000775</td><td>0.31146204</td></tr><tr><td>80000776</td><td>0.4090384</td></tr><tr><td>80000777</td><td>0.46856213</td></tr><tr><td>80000778</td><td>0.004615868</td></tr><tr><td>80000779</td><td>0.0099076675</td></tr><tr><td>80000780</td><td>0.04690608</td></tr><tr><td>80000781</td><td>0.032586023</td></tr><tr><td>80000782</td><td>0.86848474</td></tr><tr><td>80000783</td><td>0.004409305</td></tr><tr><td>80000784</td><td>0.01830743</td></tr><tr><td>80000785</td><td>0.029633753</td></tr><tr><td>80000786</td><td>0.1248253</td></tr><tr><td>80000787</td><td>0.02179548</td></tr><tr><td>80000788</td><td>0.008784009</td></tr><tr><td>80000789</td><td>0.031023977</td></tr><tr><td>80000790</td><td>0.10014766</td></tr><tr><td>80000791</td><td>0.010055833</td></tr><tr><td>80000792</td><td>0.011375714</td></tr><tr><td>80000793</td><td>0.02726342</td></tr><tr><td>80000794</td><td>0.22519383</td></tr><tr><td>80000795</td><td>0.004543989</td></tr><tr><td>80000796</td><td>0.06542263</td></tr><tr><td>80000797</td><td>0.004909412</td></tr><tr><td>80000798</td><td>0.61143464</td></tr><tr><td>80000799</td><td>0.60716283</td></tr><tr><td>80000800</td><td>0.08656382</td></tr><tr><td>80000801</td><td>0.017008888</td></tr><tr><td>80000802</td><td>0.015342165</td></tr><tr><td>80000803</td><td>0.096201025</td></tr><tr><td>80000804</td><td>0.1871063</td></tr><tr><td>80000805</td><td>0.0067421733</td></tr><tr><td>80000806</td><td>0.014445418</td></tr><tr><td>80000807</td><td>0.99351335</td></tr><tr><td>80000808</td><td>0.0043813973</td></tr><tr><td>80000809</td><td>0.6074318</td></tr><tr><td>80000810</td><td>0.036208328</td></tr><tr><td>80000811</td><td>0.0261264</td></tr><tr><td>80000812</td><td>0.004795522</td></tr><tr><td>80000813</td><td>0.025049463</td></tr><tr><td>80000814</td><td>0.039250873</td></tr><tr><td>80000815</td><td>0.021797255</td></tr><tr><td>80000816</td><td>0.015066624</td></tr><tr><td>80000817</td><td>0.008223914</td></tr><tr><td>80000818</td><td>0.01881716</td></tr><tr><td>80000819</td><td>0.11179924</td></tr><tr><td>80000820</td><td>0.05466621</td></tr><tr><td>80000821</td><td>0.06996554</td></tr><tr><td>80000822</td><td>0.046935998</td></tr><tr><td>80000823</td><td>0.008201765</td></tr><tr><td>80000824</td><td>0.5661213</td></tr><tr><td>80000825</td><td>0.010709627</td></tr><tr><td>80000826</td><td>0.6657646</td></tr><tr><td>80000827</td><td>0.9352857</td></tr><tr><td>80000828</td><td>0.04534482</td></tr><tr><td>80000829</td><td>0.18781042</td></tr><tr><td>80000830</td><td>0.013345682</td></tr><tr><td>80000831</td><td>0.36857152</td></tr><tr><td>80000832</td><td>0.025702057</td></tr><tr><td>80000833</td><td>0.69436723</td></tr><tr><td>80000834</td><td>0.8124101</td></tr><tr><td>80000835</td><td>0.81902957</td></tr><tr><td>80000836</td><td>0.014684855</td></tr><tr><td>80000837</td><td>0.11390672</td></tr><tr><td>80000838</td><td>0.037225604</td></tr><tr><td>80000839</td><td>0.238907</td></tr><tr><td>80000840</td><td>0.060840353</td></tr><tr><td>80000841</td><td>0.06295582</td></tr><tr><td>80000842</td><td>0.022186268</td></tr><tr><td>80000843</td><td>0.017483575</td></tr><tr><td>80000844</td><td>0.0707445</td></tr><tr><td>80000845</td><td>0.0052353567</td></tr><tr><td>80000846</td><td>0.056667924</td></tr><tr><td>80000847</td><td>0.048463084</td></tr><tr><td>80000848</td><td>0.020646237</td></tr><tr><td>80000849</td><td>0.0908029</td></tr><tr><td>80000850</td><td>0.018843455</td></tr><tr><td>80000851</td><td>0.044044334</td></tr><tr><td>80000852</td><td>0.37115008</td></tr><tr><td>80000853</td><td>0.0416634</td></tr><tr><td>80000854</td><td>0.023322549</td></tr><tr><td>80000855</td><td>0.18728502</td></tr><tr><td>80000856</td><td>0.38130692</td></tr><tr><td>80000857</td><td>0.012878092</td></tr><tr><td>80000858</td><td>0.26611146</td></tr><tr><td>80000859</td><td>0.35654202</td></tr><tr><td>80000860</td><td>8.923265E-4</td></tr><tr><td>80000861</td><td>0.00586402</td></tr><tr><td>80000862</td><td>0.71352404</td></tr><tr><td>80000863</td><td>0.0053874576</td></tr><tr><td>80000864</td><td>0.60246146</td></tr><tr><td>80000865</td><td>0.6914471</td></tr><tr><td>80000866</td><td>0.0067979866</td></tr><tr><td>80000867</td><td>0.7182428</td></tr><tr><td>80000868</td><td>0.072276525</td></tr><tr><td>80000869</td><td>0.17987281</td></tr><tr><td>80000870</td><td>0.795454</td></tr><tr><td>80000871</td><td>0.992866</td></tr><tr><td>80000872</td><td>0.7734986</td></tr><tr><td>80000873</td><td>0.9334796</td></tr><tr><td>80000874</td><td>0.924477</td></tr><tr><td>80000875</td><td>0.2648747</td></tr><tr><td>80000876</td><td>0.0070790015</td></tr><tr><td>80000877</td><td>0.7321523</td></tr><tr><td>80000878</td><td>0.32884356</td></tr><tr><td>80000879</td><td>0.09800878</td></tr><tr><td>80000880</td><td>0.8110081</td></tr><tr><td>80000881</td><td>0.49072734</td></tr><tr><td>80000882</td><td>0.22859368</td></tr><tr><td>80000883</td><td>0.46011546</td></tr><tr><td>80000884</td><td>0.00612749</td></tr><tr><td>80000885</td><td>0.008045346</td></tr><tr><td>80000886</td><td>0.15015657</td></tr><tr><td>80000887</td><td>0.9339652</td></tr><tr><td>80000888</td><td>0.054768726</td></tr><tr><td>80000889</td><td>0.8758633</td></tr><tr><td>80000890</td><td>0.5794395</td></tr><tr><td>80000891</td><td>0.7218671</td></tr><tr><td>80000892</td><td>0.008651966</td></tr><tr><td>80000893</td><td>0.6561754</td></tr><tr><td>80000894</td><td>0.10468484</td></tr><tr><td>80000895</td><td>0.021397237</td></tr><tr><td>80000896</td><td>0.70172536</td></tr><tr><td>80000897</td><td>0.037582982</td></tr><tr><td>80000898</td><td>0.007652652</td></tr><tr><td>80000899</td><td>0.010909018</td></tr><tr><td>80000900</td><td>0.35832483</td></tr><tr><td>80000901</td><td>0.005975071</td></tr><tr><td>80000902</td><td>0.0013159831</td></tr><tr><td>80000903</td><td>0.0028775097</td></tr><tr><td>80000904</td><td>0.17498243</td></tr><tr><td>80000905</td><td>0.015726982</td></tr><tr><td>80000906</td><td>0.038682807</td></tr><tr><td>80000907</td><td>0.005422971</td></tr><tr><td>80000908</td><td>0.0017507279</td></tr><tr><td>80000909</td><td>0.009271238</td></tr><tr><td>80000910</td><td>0.022875037</td></tr><tr><td>80000911</td><td>0.03202731</td></tr><tr><td>80000912</td><td>0.002869607</td></tr><tr><td>80000913</td><td>0.11253106</td></tr><tr><td>80000914</td><td>0.057477742</td></tr><tr><td>80000915</td><td>0.090466276</td></tr><tr><td>80000916</td><td>0.001052624</td></tr><tr><td>80000917</td><td>0.015784478</td></tr><tr><td>80000918</td><td>0.023321208</td></tr><tr><td>80000919</td><td>0.024882596</td></tr><tr><td>80000920</td><td>0.08927636</td></tr><tr><td>80000921</td><td>0.025392715</td></tr><tr><td>80000922</td><td>0.049513686</td></tr><tr><td>80000923</td><td>0.03482204</td></tr><tr><td>80000924</td><td>0.079711385</td></tr><tr><td>80000925</td><td>0.22145997</td></tr><tr><td>80000926</td><td>0.06816326</td></tr><tr><td>80000927</td><td>0.11097911</td></tr><tr><td>80000928</td><td>0.06191374</td></tr><tr><td>80000929</td><td>0.07773484</td></tr><tr><td>80000930</td><td>0.07820965</td></tr><tr><td>80000931</td><td>0.019973466</td></tr><tr><td>80000932</td><td>0.031691074</td></tr><tr><td>80000933</td><td>0.02102514</td></tr><tr><td>80000934</td><td>0.07959894</td></tr><tr><td>80000935</td><td>0.033527985</td></tr><tr><td>80000936</td><td>0.019653773</td></tr><tr><td>80000937</td><td>0.39013356</td></tr><tr><td>80000938</td><td>0.004988048</td></tr><tr><td>80000939</td><td>0.0030603504</td></tr><tr><td>80000940</td><td>0.10527817</td></tr><tr><td>80000941</td><td>0.05495087</td></tr><tr><td>80000942</td><td>0.011001271</td></tr><tr><td>80000943</td><td>0.19427356</td></tr><tr><td>80000944</td><td>0.003166371</td></tr><tr><td>80000945</td><td>0.62499547</td></tr><tr><td>80000946</td><td>0.41947347</td></tr><tr><td>80000947</td><td>0.009148778</td></tr><tr><td>80000948</td><td>0.85646665</td></tr><tr><td>80000949</td><td>0.0022776811</td></tr><tr><td>80000950</td><td>0.87246335</td></tr><tr><td>80000951</td><td>0.24665667</td></tr><tr><td>80000952</td><td>0.012318245</td></tr><tr><td>80000953</td><td>0.91406554</td></tr><tr><td>80000954</td><td>0.42437837</td></tr><tr><td>80000955</td><td>0.08114757</td></tr><tr><td>80000956</td><td>0.004916785</td></tr><tr><td>80000957</td><td>0.013314925</td></tr><tr><td>80000958</td><td>0.36624342</td></tr><tr><td>80000959</td><td>0.22688974</td></tr><tr><td>80000960</td><td>0.07072957</td></tr><tr><td>80000961</td><td>0.027983114</td></tr><tr><td>80000962</td><td>0.0052932603</td></tr><tr><td>80000963</td><td>0.35943744</td></tr><tr><td>80000964</td><td>0.004674901</td></tr><tr><td>80000965</td><td>0.86205345</td></tr><tr><td>80000966</td><td>0.06546287</td></tr><tr><td>80000967</td><td>0.5515842</td></tr><tr><td>80000968</td><td>0.8014907</td></tr><tr><td>80000969</td><td>0.12315268</td></tr><tr><td>80000970</td><td>0.011240759</td></tr><tr><td>80000971</td><td>0.7831958</td></tr><tr><td>80000972</td><td>0.8659194</td></tr><tr><td>80000973</td><td>0.30536467</td></tr><tr><td>80000974</td><td>0.052486748</td></tr><tr><td>80000975</td><td>0.045798354</td></tr><tr><td>80000976</td><td>0.0994146</td></tr><tr><td>80000977</td><td>0.04161406</td></tr><tr><td>80000978</td><td>0.47894385</td></tr><tr><td>80000979</td><td>0.0011706523</td></tr><tr><td>80000980</td><td>0.009268395</td></tr><tr><td>80000981</td><td>0.00576537</td></tr><tr><td>80000982</td><td>0.008043958</td></tr><tr><td>80000983</td><td>0.22445644</td></tr><tr><td>80000984</td><td>0.004478741</td></tr><tr><td>80000985</td><td>0.04489826</td></tr><tr><td>80000986</td><td>0.6922732</td></tr><tr><td>80000987</td><td>0.11964081</td></tr><tr><td>80000988</td><td>0.004673726</td></tr><tr><td>80000989</td><td>0.5864324</td></tr><tr><td>80000990</td><td>0.3482343</td></tr><tr><td>80000991</td><td>0.104146644</td></tr><tr><td>80000992</td><td>0.17558374</td></tr><tr><td>80000993</td><td>0.0066848947</td></tr><tr><td>80000994</td><td>0.6385865</td></tr><tr><td>80000995</td><td>0.027229995</td></tr><tr><td>80000996</td><td>0.67361677</td></tr><tr><td>80000997</td><td>0.016864056</td></tr><tr><td>80000998</td><td>0.019371726</td></tr><tr><td>80000999</td><td>0.52070254</td></tr><tr><td>80001000</td><td>0.30765188</td></tr></tbody></table>Showing the first 1000 rows.</div>"
      ]
     },
     "metadata": {
      "application/vnd.databricks.v1+output": {
       "addedWidgets": {},
       "aggData": [],
       "aggError": "",
       "aggOverflow": false,
       "aggSchema": [],
       "aggSeriesLimitReached": false,
       "aggType": "",
       "arguments": {},
       "columnCustomDisplayInfos": {},
       "data": [
        [
         80000001,
         0.010426694
        ],
        [
         80000002,
         0.05640943
        ],
        [
         80000003,
         0.016121844
        ],
        [
         80000004,
         0.19560656
        ],
        [
         80000005,
         0.7740162
        ],
        [
         80000006,
         0.42030618
        ],
        [
         80000007,
         0.12573153
        ],
        [
         80000008,
         0.16405371
        ],
        [
         80000009,
         0.095654555
        ],
        [
         80000010,
         0.84044164
        ],
        [
         80000011,
         0.5167011
        ],
        [
         80000012,
         0.0047627212
        ],
        [
         80000013,
         0.06410392
        ],
        [
         80000014,
         0.004077188
        ],
        [
         80000015,
         0.10065899
        ],
        [
         80000016,
         0.0026669523
        ],
        [
         80000017,
         0.009434282
        ],
        [
         80000018,
         0.08115128
        ],
        [
         80000019,
         0.4650737
        ],
        [
         80000020,
         0.08254829
        ],
        [
         80000021,
         0.052207034
        ],
        [
         80000022,
         0.20432124
        ],
        [
         80000023,
         0.1693573
        ],
        [
         80000024,
         0.3777023
        ],
        [
         80000025,
         0.7047071
        ],
        [
         80000026,
         0.42465734
        ],
        [
         80000027,
         0.056302473
        ],
        [
         80000028,
         0.073379606
        ],
        [
         80000029,
         0.01975702
        ],
        [
         80000030,
         0.013929041
        ],
        [
         80000031,
         0.12140263
        ],
        [
         80000032,
         0.3589696
        ],
        [
         80000033,
         0.13977864
        ],
        [
         80000034,
         0.4438756
        ],
        [
         80000035,
         0.5618034
        ],
        [
         80000036,
         0.002397017
        ],
        [
         80000037,
         0.025760612
        ],
        [
         80000038,
         0.12088626
        ],
        [
         80000039,
         0.05040365
        ],
        [
         80000040,
         0.015800122
        ],
        [
         80000041,
         0.12568824
        ],
        [
         80000042,
         0.025590958
        ],
        [
         80000043,
         0.034919202
        ],
        [
         80000044,
         0.022769967
        ],
        [
         80000045,
         0.044496387
        ],
        [
         80000046,
         0.0139718
        ],
        [
         80000047,
         0.047437724
        ],
        [
         80000048,
         0.04242478
        ],
        [
         80000049,
         0.039187673
        ],
        [
         80000050,
         0.10240205
        ],
        [
         80000051,
         0.79950917
        ],
        [
         80000052,
         0.22493921
        ],
        [
         80000053,
         0.22309142
        ],
        [
         80000054,
         0.38017133
        ],
        [
         80000055,
         0.13074113
        ],
        [
         80000056,
         0.30877307
        ],
        [
         80000057,
         0.09206613
        ],
        [
         80000058,
         0.20349401
        ],
        [
         80000059,
         0.61710864
        ],
        [
         80000060,
         0.003448019
        ],
        [
         80000061,
         0.028999794
        ],
        [
         80000062,
         0.822479
        ],
        [
         80000063,
         0.0067720953
        ],
        [
         80000064,
         0.90685505
        ],
        [
         80000065,
         0.0060341856
        ],
        [
         80000066,
         0.027709937
        ],
        [
         80000067,
         0.0026218102
        ],
        [
         80000068,
         0.756237
        ],
        [
         80000069,
         0.42024183
        ],
        [
         80000070,
         0.6363156
        ],
        [
         80000071,
         0.11309014
        ],
        [
         80000072,
         0.5824529
        ],
        [
         80000073,
         0.008961328
        ],
        [
         80000074,
         0.37563413
        ],
        [
         80000075,
         0.0030176966
        ],
        [
         80000076,
         0.0022583778
        ],
        [
         80000077,
         0.02035412
        ],
        [
         80000078,
         0.075154684
        ],
        [
         80000079,
         0.060500648
        ],
        [
         80000080,
         0.029642137
        ],
        [
         80000081,
         0.05640686
        ],
        [
         80000082,
         0.017292937
        ],
        [
         80000083,
         0.01458024
        ],
        [
         80000084,
         0.0072226184
        ],
        [
         80000085,
         0.022754395
        ],
        [
         80000086,
         0.0044814455
        ],
        [
         80000087,
         0.0038814319
        ],
        [
         80000088,
         0.014589544
        ],
        [
         80000089,
         0.09738453
        ],
        [
         80000090,
         0.0015631112
        ],
        [
         80000091,
         0.1730086
        ],
        [
         80000092,
         0.0020074511
        ],
        [
         80000093,
         0.04037656
        ],
        [
         80000094,
         0.10907628
        ],
        [
         80000095,
         0.18011807
        ],
        [
         80000096,
         0.1619101
        ],
        [
         80000097,
         0.03231114
        ],
        [
         80000098,
         0.10986213
        ],
        [
         80000099,
         0.08879035
        ],
        [
         80000100,
         0.02282397
        ],
        [
         80000101,
         0.102098666
        ],
        [
         80000102,
         0.10952634
        ],
        [
         80000103,
         0.13029885
        ],
        [
         80000104,
         0.0671108
        ],
        [
         80000105,
         0.08797443
        ],
        [
         80000106,
         0.006908623
        ],
        [
         80000107,
         0.09347834
        ],
        [
         80000108,
         0.015399145
        ],
        [
         80000109,
         0.01974521
        ],
        [
         80000110,
         0.09622625
        ],
        [
         80000111,
         0.0735448
        ],
        [
         80000112,
         0.41531673
        ],
        [
         80000113,
         0.09445925
        ],
        [
         80000114,
         0.03742302
        ],
        [
         80000115,
         0.010120164
        ],
        [
         80000116,
         0.016371263
        ],
        [
         80000117,
         0.5225777
        ],
        [
         80000118,
         0.13781953
        ],
        [
         80000119,
         0.13328819
        ],
        [
         80000120,
         0.008237103
        ],
        [
         80000121,
         0.0075212354
        ],
        [
         80000122,
         0.27452382
        ],
        [
         80000123,
         0.006304841
        ],
        [
         80000124,
         0.4180629
        ],
        [
         80000125,
         0.3779221
        ],
        [
         80000126,
         0.00853488
        ],
        [
         80000127,
         0.05167746
        ],
        [
         80000128,
         0.44238883
        ],
        [
         80000129,
         0.045999385
        ],
        [
         80000130,
         0.05950752
        ],
        [
         80000131,
         0.025887946
        ],
        [
         80000132,
         0.0024974917
        ],
        [
         80000133,
         0.003059974
        ],
        [
         80000134,
         0.14595452
        ],
        [
         80000135,
         0.003390017
        ],
        [
         80000136,
         0.1002563
        ],
        [
         80000137,
         0.312434
        ],
        [
         80000138,
         0.08182708
        ],
        [
         80000139,
         0.004425341
        ],
        [
         80000140,
         0.16283764
        ],
        [
         80000141,
         0.031837594
        ],
        [
         80000142,
         0.007451927
        ],
        [
         80000143,
         0.011187609
        ],
        [
         80000144,
         0.36668795
        ],
        [
         80000145,
         0.017597968
        ],
        [
         80000146,
         0.066131935
        ],
        [
         80000147,
         0.005198262
        ],
        [
         80000148,
         0.047410604
        ],
        [
         80000149,
         0.0108545115
        ],
        [
         80000150,
         0.021797333
        ],
        [
         80000151,
         0.50418067
        ],
        [
         80000152,
         0.024600683
        ],
        [
         80000153,
         0.10009852
        ],
        [
         80000154,
         0.047438506
        ],
        [
         80000155,
         0.011053984
        ],
        [
         80000156,
         0.023761285
        ],
        [
         80000157,
         0.7470828
        ],
        [
         80000158,
         0.055289492
        ],
        [
         80000159,
         0.2173222
        ],
        [
         80000160,
         0.02689881
        ],
        [
         80000161,
         0.59136814
        ],
        [
         80000162,
         0.6988483
        ],
        [
         80000163,
         0.038717203
        ],
        [
         80000164,
         0.0028231181
        ],
        [
         80000165,
         0.03329787
        ],
        [
         80000166,
         0.022507373
        ],
        [
         80000167,
         0.014350501
        ],
        [
         80000168,
         0.70973045
        ],
        [
         80000169,
         0.002742734
        ],
        [
         80000170,
         0.73234427
        ],
        [
         80000171,
         0.67808026
        ],
        [
         80000172,
         0.01411383
        ],
        [
         80000173,
         0.028417217
        ],
        [
         80000174,
         0.026608901
        ],
        [
         80000175,
         0.24265617
        ],
        [
         80000176,
         0.68420047
        ],
        [
         80000177,
         0.06502553
        ],
        [
         80000178,
         0.3898357
        ],
        [
         80000179,
         0.31684276
        ],
        [
         80000180,
         0.90915525
        ],
        [
         80000181,
         0.025414558
        ],
        [
         80000182,
         0.05879252
        ],
        [
         80000183,
         0.12954171
        ],
        [
         80000184,
         0.3806244
        ],
        [
         80000185,
         0.08674429
        ],
        [
         80000186,
         0.7721551
        ],
        [
         80000187,
         0.13592431
        ],
        [
         80000188,
         0.5238711
        ],
        [
         80000189,
         0.3484398
        ],
        [
         80000190,
         0.11984452
        ],
        [
         80000191,
         0.50448614
        ],
        [
         80000192,
         0.2510634
        ],
        [
         80000193,
         0.25200114
        ],
        [
         80000194,
         0.73017937
        ],
        [
         80000195,
         0.21812937
        ],
        [
         80000196,
         0.015656833
        ],
        [
         80000197,
         0.6878004
        ],
        [
         80000198,
         0.5650506
        ],
        [
         80000199,
         0.45977268
        ],
        [
         80000200,
         0.51123893
        ],
        [
         80000201,
         0.0022687786
        ],
        [
         80000202,
         0.94367045
        ],
        [
         80000203,
         0.004053389
        ],
        [
         80000204,
         0.5223939
        ],
        [
         80000205,
         0.038804643
        ],
        [
         80000206,
         0.24078868
        ],
        [
         80000207,
         0.006644578
        ],
        [
         80000208,
         0.0026172972
        ],
        [
         80000209,
         0.111138694
        ],
        [
         80000210,
         0.046057522
        ],
        [
         80000211,
         0.0028520012
        ],
        [
         80000212,
         0.030521713
        ],
        [
         80000213,
         0.11845964
        ],
        [
         80000214,
         0.08819239
        ],
        [
         80000215,
         0.01957607
        ],
        [
         80000216,
         0.024082467
        ],
        [
         80000217,
         0.023702215
        ],
        [
         80000218,
         0.020232057
        ],
        [
         80000219,
         0.17370273
        ],
        [
         80000220,
         0.039822914
        ],
        [
         80000221,
         0.0032923033
        ],
        [
         80000222,
         0.50241053
        ],
        [
         80000223,
         0.011155891
        ],
        [
         80000224,
         0.27896997
        ],
        [
         80000225,
         0.003972029
        ],
        [
         80000226,
         0.7229172
        ],
        [
         80000227,
         0.5161067
        ],
        [
         80000228,
         0.03813369
        ],
        [
         80000229,
         0.063084565
        ],
        [
         80000230,
         0.0089678755
        ],
        [
         80000231,
         0.0014399089
        ],
        [
         80000232,
         0.068565466
        ],
        [
         80000233,
         0.21850425
        ],
        [
         80000234,
         0.027127227
        ],
        [
         80000235,
         0.08578829
        ],
        [
         80000236,
         0.0091810515
        ],
        [
         80000237,
         0.07754728
        ],
        [
         80000238,
         0.02118561
        ],
        [
         80000239,
         0.13967954
        ],
        [
         80000240,
         0.03308621
        ],
        [
         80000241,
         0.0115506975
        ],
        [
         80000242,
         0.01010592
        ],
        [
         80000243,
         0.1469365
        ],
        [
         80000244,
         0.027910648
        ],
        [
         80000245,
         0.020201053
        ],
        [
         80000246,
         0.02464579
        ],
        [
         80000247,
         0.032991566
        ],
        [
         80000248,
         0.4935768
        ],
        [
         80000249,
         0.056401864
        ],
        [
         80000250,
         0.01688308
        ],
        [
         80000251,
         0.08645997
        ],
        [
         80000252,
         0.10781651
        ],
        [
         80000253,
         0.13248526
        ],
        [
         80000254,
         0.40558362
        ],
        [
         80000255,
         0.17254674
        ],
        [
         80000256,
         0.10177463
        ],
        [
         80000257,
         0.02768765
        ],
        [
         80000258,
         0.0052251173
        ],
        [
         80000259,
         0.078769766
        ],
        [
         80000260,
         0.15766248
        ],
        [
         80000261,
         0.023406098
        ],
        [
         80000262,
         0.06672995
        ],
        [
         80000263,
         0.07629003
        ],
        [
         80000264,
         0.34321645
        ],
        [
         80000265,
         0.76513046
        ],
        [
         80000266,
         0.018872106
        ],
        [
         80000267,
         0.16369474
        ],
        [
         80000268,
         0.009321865
        ],
        [
         80000269,
         0.2906761
        ],
        [
         80000270,
         0.67817694
        ],
        [
         80000271,
         0.004076445
        ],
        [
         80000272,
         0.11722509
        ],
        [
         80000273,
         0.14717875
        ],
        [
         80000274,
         0.45684385
        ],
        [
         80000275,
         0.95013493
        ],
        [
         80000276,
         0.7077977
        ],
        [
         80000277,
         0.36116982
        ],
        [
         80000278,
         0.071478635
        ],
        [
         80000279,
         0.22855331
        ],
        [
         80000280,
         0.008857163
        ],
        [
         80000281,
         0.009667211
        ],
        [
         80000282,
         0.85921985
        ],
        [
         80000283,
         0.0114748515
        ],
        [
         80000284,
         0.027634375
        ],
        [
         80000285,
         0.0187839
        ],
        [
         80000286,
         0.060212344
        ],
        [
         80000287,
         0.06603256
        ],
        [
         80000288,
         0.0010600094
        ],
        [
         80000289,
         0.016135538
        ],
        [
         80000290,
         0.016231803
        ],
        [
         80000291,
         0.01650597
        ],
        [
         80000292,
         0.0069788075
        ],
        [
         80000293,
         0.10183864
        ],
        [
         80000294,
         0.70671237
        ],
        [
         80000295,
         0.15410165
        ],
        [
         80000296,
         0.27043876
        ],
        [
         80000297,
         0.0046785385
        ],
        [
         80000298,
         0.9802743
        ],
        [
         80000299,
         0.0046432912
        ],
        [
         80000300,
         0.0035794752
        ],
        [
         80000301,
         0.16161862
        ],
        [
         80000302,
         0.85192424
        ],
        [
         80000303,
         0.29511464
        ],
        [
         80000304,
         0.07239879
        ],
        [
         80000305,
         0.00665198
        ],
        [
         80000306,
         0.21639605
        ],
        [
         80000307,
         0.080570936
        ],
        [
         80000308,
         0.18168776
        ],
        [
         80000309,
         0.48156485
        ],
        [
         80000310,
         0.9103701
        ],
        [
         80000311,
         0.0449215
        ],
        [
         80000312,
         0.041479584
        ],
        [
         80000313,
         0.43349165
        ],
        [
         80000314,
         0.14421915
        ],
        [
         80000315,
         0.2734644
        ],
        [
         80000316,
         0.37392482
        ],
        [
         80000317,
         0.7012728
        ],
        [
         80000318,
         0.7569642
        ],
        [
         80000319,
         0.039235312
        ],
        [
         80000320,
         0.08178858
        ],
        [
         80000321,
         0.5807527
        ],
        [
         80000322,
         0.31326097
        ],
        [
         80000323,
         0.52969307
        ],
        [
         80000324,
         6.0329476E-4
        ],
        [
         80000325,
         0.43855146
        ],
        [
         80000326,
         0.16022693
        ],
        [
         80000327,
         0.5402882
        ],
        [
         80000328,
         0.033255007
        ],
        [
         80000329,
         0.84538007
        ],
        [
         80000330,
         0.027690805
        ],
        [
         80000331,
         0.035471845
        ],
        [
         80000332,
         0.012292042
        ],
        [
         80000333,
         0.02813471
        ],
        [
         80000334,
         0.09674995
        ],
        [
         80000335,
         0.6522953
        ],
        [
         80000336,
         0.013616636
        ],
        [
         80000337,
         0.24327883
        ],
        [
         80000338,
         0.08685089
        ],
        [
         80000339,
         0.29125628
        ],
        [
         80000340,
         0.68308204
        ],
        [
         80000341,
         0.13233623
        ],
        [
         80000342,
         0.069088645
        ],
        [
         80000343,
         0.9604744
        ],
        [
         80000344,
         0.97523284
        ],
        [
         80000345,
         0.62199426
        ],
        [
         80000346,
         0.100996375
        ],
        [
         80000347,
         0.031122103
        ],
        [
         80000348,
         0.014849802
        ],
        [
         80000349,
         0.4122556
        ],
        [
         80000350,
         0.25454968
        ],
        [
         80000351,
         0.00865258
        ],
        [
         80000352,
         0.14357999
        ],
        [
         80000353,
         0.21246089
        ],
        [
         80000354,
         0.023845695
        ],
        [
         80000355,
         0.68665624
        ],
        [
         80000356,
         0.012417884
        ],
        [
         80000357,
         0.3203556
        ],
        [
         80000358,
         0.03529576
        ],
        [
         80000359,
         0.08980875
        ],
        [
         80000360,
         0.1960421
        ],
        [
         80000361,
         0.2580437
        ],
        [
         80000362,
         0.42762196
        ],
        [
         80000363,
         0.06620906
        ],
        [
         80000364,
         0.58611125
        ],
        [
         80000365,
         0.04409179
        ],
        [
         80000366,
         0.1717386
        ],
        [
         80000367,
         0.5250356
        ],
        [
         80000368,
         0.711307
        ],
        [
         80000369,
         0.31787127
        ],
        [
         80000370,
         0.066285595
        ],
        [
         80000371,
         0.06386053
        ],
        [
         80000372,
         0.0031155462
        ],
        [
         80000373,
         0.6390229
        ],
        [
         80000374,
         0.31590956
        ],
        [
         80000375,
         0.26312968
        ],
        [
         80000376,
         0.05445573
        ],
        [
         80000377,
         0.013094196
        ],
        [
         80000378,
         0.10244636
        ],
        [
         80000379,
         0.0015729751
        ],
        [
         80000380,
         0.002012882
        ],
        [
         80000381,
         0.6139908
        ],
        [
         80000382,
         0.003451989
        ],
        [
         80000383,
         0.56423765
        ],
        [
         80000384,
         0.015612839
        ],
        [
         80000385,
         0.7262101
        ],
        [
         80000386,
         0.14535432
        ],
        [
         80000387,
         0.52248514
        ],
        [
         80000388,
         0.005388706
        ],
        [
         80000389,
         0.006407394
        ],
        [
         80000390,
         0.09033816
        ],
        [
         80000391,
         0.01698092
        ],
        [
         80000392,
         0.42713517
        ],
        [
         80000393,
         0.106757894
        ],
        [
         80000394,
         0.08623233
        ],
        [
         80000395,
         0.112863846
        ],
        [
         80000396,
         0.73652375
        ],
        [
         80000397,
         0.03188302
        ],
        [
         80000398,
         0.047644682
        ],
        [
         80000399,
         0.9291162
        ],
        [
         80000400,
         0.008924139
        ],
        [
         80000401,
         0.15626524
        ],
        [
         80000402,
         0.043784052
        ],
        [
         80000403,
         0.5820581
        ],
        [
         80000404,
         0.011556695
        ],
        [
         80000405,
         0.014906481
        ],
        [
         80000406,
         0.0064840666
        ],
        [
         80000407,
         0.49332497
        ],
        [
         80000408,
         0.9784952
        ],
        [
         80000409,
         0.04069381
        ],
        [
         80000410,
         0.0076391273
        ],
        [
         80000411,
         0.059464924
        ],
        [
         80000412,
         0.008841193
        ],
        [
         80000413,
         0.037641734
        ],
        [
         80000414,
         0.046052426
        ],
        [
         80000415,
         0.003752721
        ],
        [
         80000416,
         0.0040043592
        ],
        [
         80000417,
         0.012499546
        ],
        [
         80000418,
         0.0035790738
        ],
        [
         80000419,
         0.03744813
        ],
        [
         80000420,
         0.009513014
        ],
        [
         80000421,
         0.02898921
        ],
        [
         80000422,
         0.00199613
        ],
        [
         80000423,
         0.013194553
        ],
        [
         80000424,
         0.014546723
        ],
        [
         80000425,
         0.0347956
        ],
        [
         80000426,
         0.0035078854
        ],
        [
         80000427,
         0.04550059
        ],
        [
         80000428,
         0.0013545295
        ],
        [
         80000429,
         0.057449274
        ],
        [
         80000430,
         0.057253644
        ],
        [
         80000431,
         0.010726636
        ],
        [
         80000432,
         0.0018765765
        ],
        [
         80000433,
         0.00323194
        ],
        [
         80000434,
         0.04270201
        ],
        [
         80000435,
         0.103406854
        ],
        [
         80000436,
         0.011827756
        ],
        [
         80000437,
         0.27418226
        ],
        [
         80000438,
         0.020136673
        ],
        [
         80000439,
         0.0673321
        ],
        [
         80000440,
         0.0034324166
        ],
        [
         80000441,
         0.32412606
        ],
        [
         80000442,
         0.003898462
        ],
        [
         80000443,
         0.0044950526
        ],
        [
         80000444,
         0.74935234
        ],
        [
         80000445,
         0.008462238
        ],
        [
         80000446,
         0.0031141345
        ],
        [
         80000447,
         0.088452004
        ],
        [
         80000448,
         0.9129805
        ],
        [
         80000449,
         0.045147277
        ],
        [
         80000450,
         0.34112123
        ],
        [
         80000451,
         0.004458702
        ],
        [
         80000452,
         0.5364834
        ],
        [
         80000453,
         0.02962652
        ],
        [
         80000454,
         0.0030999954
        ],
        [
         80000455,
         0.6662857
        ],
        [
         80000456,
         0.5655174
        ],
        [
         80000457,
         0.13098462
        ],
        [
         80000458,
         0.044222232
        ],
        [
         80000459,
         0.13583313
        ],
        [
         80000460,
         0.0073798453
        ],
        [
         80000461,
         0.2940585
        ],
        [
         80000462,
         0.30119574
        ],
        [
         80000463,
         0.033010274
        ],
        [
         80000464,
         0.023336465
        ],
        [
         80000465,
         0.20294592
        ],
        [
         80000466,
         0.012486917
        ],
        [
         80000467,
         0.0022900305
        ],
        [
         80000468,
         0.0055606808
        ],
        [
         80000469,
         0.09868428
        ],
        [
         80000470,
         0.0018381749
        ],
        [
         80000471,
         0.00849609
        ],
        [
         80000472,
         0.007003727
        ],
        [
         80000473,
         0.0048515582
        ],
        [
         80000474,
         0.050001737
        ],
        [
         80000475,
         0.27743483
        ],
        [
         80000476,
         0.049015976
        ],
        [
         80000477,
         0.1302419
        ],
        [
         80000478,
         0.019904118
        ],
        [
         80000479,
         0.011578259
        ],
        [
         80000480,
         0.0073902784
        ],
        [
         80000481,
         0.005796982
        ],
        [
         80000482,
         0.007337969
        ],
        [
         80000483,
         0.5260799
        ],
        [
         80000484,
         0.0022846882
        ],
        [
         80000485,
         0.006296509
        ],
        [
         80000486,
         0.011722727
        ],
        [
         80000487,
         0.016371112
        ],
        [
         80000488,
         0.002568195
        ],
        [
         80000489,
         0.013059827
        ],
        [
         80000490,
         0.447893
        ],
        [
         80000491,
         0.062176276
        ],
        [
         80000492,
         0.0025511065
        ],
        [
         80000493,
         0.0023022473
        ],
        [
         80000494,
         0.049888454
        ],
        [
         80000495,
         0.19969723
        ],
        [
         80000496,
         0.056165576
        ],
        [
         80000497,
         0.24839683
        ],
        [
         80000498,
         0.007617237
        ],
        [
         80000499,
         0.7283488
        ],
        [
         80000500,
         0.0027884736
        ],
        [
         80000501,
         0.0019974995
        ],
        [
         80000502,
         0.6532498
        ],
        [
         80000503,
         0.025079442
        ],
        [
         80000504,
         0.0019375101
        ],
        [
         80000505,
         0.0023287016
        ],
        [
         80000506,
         0.00399269
        ],
        [
         80000507,
         0.013927801
        ],
        [
         80000508,
         0.002200952
        ],
        [
         80000509,
         0.02335712
        ],
        [
         80000510,
         0.018454403
        ],
        [
         80000511,
         0.085272945
        ],
        [
         80000512,
         0.045989152
        ],
        [
         80000513,
         0.004758963
        ],
        [
         80000514,
         0.029559873
        ],
        [
         80000515,
         0.025308086
        ],
        [
         80000516,
         0.013986211
        ],
        [
         80000517,
         0.00292947
        ],
        [
         80000518,
         0.006871197
        ],
        [
         80000519,
         0.028457278
        ],
        [
         80000520,
         0.29532173
        ],
        [
         80000521,
         0.016797317
        ],
        [
         80000522,
         0.0054160045
        ],
        [
         80000523,
         0.011463938
        ],
        [
         80000524,
         0.16057472
        ],
        [
         80000525,
         0.1889044
        ],
        [
         80000526,
         0.03988957
        ],
        [
         80000527,
         0.44542074
        ],
        [
         80000528,
         0.037043635
        ],
        [
         80000529,
         0.038738403
        ],
        [
         80000530,
         0.17338596
        ],
        [
         80000531,
         0.002572854
        ],
        [
         80000532,
         0.004418218
        ],
        [
         80000533,
         0.00146903
        ],
        [
         80000534,
         0.009875616
        ],
        [
         80000535,
         0.0023598468
        ],
        [
         80000536,
         0.059914034
        ],
        [
         80000537,
         0.002241611
        ],
        [
         80000538,
         0.14019911
        ],
        [
         80000539,
         0.026063299
        ],
        [
         80000540,
         0.067729756
        ],
        [
         80000541,
         0.18610007
        ],
        [
         80000542,
         0.0018496257
        ],
        [
         80000543,
         0.12311325
        ],
        [
         80000544,
         0.0019258412
        ],
        [
         80000545,
         0.036527276
        ],
        [
         80000546,
         8.948527E-4
        ],
        [
         80000547,
         0.007212526
        ],
        [
         80000548,
         0.2873396
        ],
        [
         80000549,
         0.0011175402
        ],
        [
         80000550,
         0.0011743443
        ],
        [
         80000551,
         0.12806493
        ],
        [
         80000552,
         7.9345104E-4
        ],
        [
         80000553,
         9.0685027E-4
        ],
        [
         80000554,
         0.008751132
        ],
        [
         80000555,
         0.23929316
        ],
        [
         80000556,
         0.14846419
        ],
        [
         80000557,
         0.0149704
        ],
        [
         80000558,
         0.3802043
        ],
        [
         80000559,
         0.22936782
        ],
        [
         80000560,
         0.42041397
        ],
        [
         80000561,
         0.007269443
        ],
        [
         80000562,
         0.46292558
        ],
        [
         80000563,
         0.03179184
        ],
        [
         80000564,
         0.09646043
        ],
        [
         80000565,
         0.034590356
        ],
        [
         80000566,
         0.0077600875
        ],
        [
         80000567,
         0.022708632
        ],
        [
         80000568,
         0.017380532
        ],
        [
         80000569,
         0.119326375
        ],
        [
         80000570,
         0.013633251
        ],
        [
         80000571,
         0.0064254804
        ],
        [
         80000572,
         0.009344656
        ],
        [
         80000573,
         0.0020581847
        ],
        [
         80000574,
         0.04227396
        ],
        [
         80000575,
         0.01824448
        ],
        [
         80000576,
         0.08095259
        ],
        [
         80000577,
         0.021000724
        ],
        [
         80000578,
         0.48722118
        ],
        [
         80000579,
         0.004534243
        ],
        [
         80000580,
         0.017669411
        ],
        [
         80000581,
         0.19920474
        ],
        [
         80000582,
         0.011464156
        ],
        [
         80000583,
         0.015265786
        ],
        [
         80000584,
         0.025378989
        ],
        [
         80000585,
         0.59929365
        ],
        [
         80000586,
         0.06543517
        ],
        [
         80000587,
         0.014195498
        ],
        [
         80000588,
         0.1152482
        ],
        [
         80000589,
         0.044678487
        ],
        [
         80000590,
         0.051062036
        ],
        [
         80000591,
         0.0017933705
        ],
        [
         80000592,
         0.008422279
        ],
        [
         80000593,
         0.017290931
        ],
        [
         80000594,
         0.02083802
        ],
        [
         80000595,
         0.2032834
        ],
        [
         80000596,
         0.12160873
        ],
        [
         80000597,
         0.011868453
        ],
        [
         80000598,
         0.012437412
        ],
        [
         80000599,
         0.030404381
        ],
        [
         80000600,
         0.035957053
        ],
        [
         80000601,
         0.030172756
        ],
        [
         80000602,
         0.051071018
        ],
        [
         80000603,
         0.007462507
        ],
        [
         80000604,
         0.018292883
        ],
        [
         80000605,
         0.021071635
        ],
        [
         80000606,
         0.09292468
        ],
        [
         80000607,
         0.004039516
        ],
        [
         80000608,
         0.13532197
        ],
        [
         80000609,
         0.055229004
        ],
        [
         80000610,
         0.012960011
        ],
        [
         80000611,
         0.6294109
        ],
        [
         80000612,
         0.0077547273
        ],
        [
         80000613,
         0.0064947843
        ],
        [
         80000614,
         0.08388664
        ],
        [
         80000615,
         0.32121813
        ],
        [
         80000616,
         0.08640607
        ],
        [
         80000617,
         0.3216276
        ],
        [
         80000618,
         0.016869722
        ],
        [
         80000619,
         0.044354364
        ],
        [
         80000620,
         0.47105622
        ],
        [
         80000621,
         0.34957516
        ],
        [
         80000622,
         0.014097129
        ],
        [
         80000623,
         0.2786286
        ],
        [
         80000624,
         0.14341755
        ],
        [
         80000625,
         0.007836623
        ],
        [
         80000626,
         0.01289523
        ],
        [
         80000627,
         0.1263514
        ],
        [
         80000628,
         0.0064599197
        ],
        [
         80000629,
         0.006419733
        ],
        [
         80000630,
         0.002971181
        ],
        [
         80000631,
         0.009985877
        ],
        [
         80000632,
         0.0028103485
        ],
        [
         80000633,
         0.004314012
        ],
        [
         80000634,
         0.6500367
        ],
        [
         80000635,
         0.6798715
        ],
        [
         80000636,
         0.33718723
        ],
        [
         80000637,
         0.042868245
        ],
        [
         80000638,
         0.32159472
        ],
        [
         80000639,
         0.36096248
        ],
        [
         80000640,
         0.012735726
        ],
        [
         80000641,
         0.06299271
        ],
        [
         80000642,
         0.012739057
        ],
        [
         80000643,
         0.050827436
        ],
        [
         80000644,
         0.031445686
        ],
        [
         80000645,
         0.5683626
        ],
        [
         80000646,
         0.024102937
        ],
        [
         80000647,
         0.6988213
        ],
        [
         80000648,
         0.0017440559
        ],
        [
         80000649,
         0.032164566
        ],
        [
         80000650,
         0.09711464
        ],
        [
         80000651,
         0.065535046
        ],
        [
         80000652,
         0.05467973
        ],
        [
         80000653,
         0.021977944
        ],
        [
         80000654,
         0.07778952
        ],
        [
         80000655,
         0.28044653
        ],
        [
         80000656,
         0.015892502
        ],
        [
         80000657,
         0.044082914
        ],
        [
         80000658,
         0.002637377
        ],
        [
         80000659,
         0.006380198
        ],
        [
         80000660,
         0.08228822
        ],
        [
         80000661,
         0.16446663
        ],
        [
         80000662,
         0.0551364
        ],
        [
         80000663,
         0.36826828
        ],
        [
         80000664,
         0.8999201
        ],
        [
         80000665,
         0.0070926175
        ],
        [
         80000666,
         0.00616985
        ],
        [
         80000667,
         0.06143908
        ],
        [
         80000668,
         0.086715326
        ],
        [
         80000669,
         0.0075116833
        ],
        [
         80000670,
         0.010243208
        ],
        [
         80000671,
         0.004816245
        ],
        [
         80000672,
         0.083730996
        ],
        [
         80000673,
         0.0048018657
        ],
        [
         80000674,
         0.025878368
        ],
        [
         80000675,
         0.04172836
        ],
        [
         80000676,
         0.032842323
        ],
        [
         80000677,
         0.009439222
        ],
        [
         80000678,
         0.037043747
        ],
        [
         80000679,
         0.11208954
        ],
        [
         80000680,
         0.013674988
        ],
        [
         80000681,
         0.057741683
        ],
        [
         80000682,
         0.023011787
        ],
        [
         80000683,
         0.0018455351
        ],
        [
         80000684,
         0.043941524
        ],
        [
         80000685,
         0.0054099583
        ],
        [
         80000686,
         0.002786893
        ],
        [
         80000687,
         0.02950367
        ],
        [
         80000688,
         0.4585055
        ],
        [
         80000689,
         0.22639985
        ],
        [
         80000690,
         0.7769626
        ],
        [
         80000691,
         0.13762814
        ],
        [
         80000692,
         0.88294363
        ],
        [
         80000693,
         0.010746175
        ],
        [
         80000694,
         0.012901455
        ],
        [
         80000695,
         0.0073752734
        ],
        [
         80000696,
         0.0067645535
        ],
        [
         80000697,
         0.0802764
        ],
        [
         80000698,
         0.010518952
        ],
        [
         80000699,
         0.010284836
        ],
        [
         80000700,
         0.042072333
        ],
        [
         80000701,
         0.028155725
        ],
        [
         80000702,
         0.08302378
        ],
        [
         80000703,
         0.12478833
        ],
        [
         80000704,
         0.15846781
        ],
        [
         80000705,
         0.12851772
        ],
        [
         80000706,
         0.8070602
        ],
        [
         80000707,
         0.005031859
        ],
        [
         80000708,
         0.016792996
        ],
        [
         80000709,
         0.8033122
        ],
        [
         80000710,
         0.53752697
        ],
        [
         80000711,
         0.15521075
        ],
        [
         80000712,
         0.0069292146
        ],
        [
         80000713,
         0.73718786
        ],
        [
         80000714,
         0.16551062
        ],
        [
         80000715,
         0.9920225
        ],
        [
         80000716,
         0.8661551
        ],
        [
         80000717,
         0.043566056
        ],
        [
         80000718,
         0.46651554
        ],
        [
         80000719,
         0.14675756
        ],
        [
         80000720,
         0.31250012
        ],
        [
         80000721,
         0.006421676
        ],
        [
         80000722,
         0.057232354
        ],
        [
         80000723,
         0.1582652
        ],
        [
         80000724,
         0.041283507
        ],
        [
         80000725,
         0.010392542
        ],
        [
         80000726,
         0.2508697
        ],
        [
         80000727,
         0.01911663
        ],
        [
         80000728,
         0.04802294
        ],
        [
         80000729,
         0.035979904
        ],
        [
         80000730,
         0.3969795
        ],
        [
         80000731,
         0.2506681
        ],
        [
         80000732,
         0.15003283
        ],
        [
         80000733,
         0.18581007
        ],
        [
         80000734,
         0.10823324
        ],
        [
         80000735,
         0.0039976556
        ],
        [
         80000736,
         0.050935876
        ],
        [
         80000737,
         0.47432703
        ],
        [
         80000738,
         0.16343701
        ],
        [
         80000739,
         0.11531837
        ],
        [
         80000740,
         0.014211393
        ],
        [
         80000741,
         0.007341465
        ],
        [
         80000742,
         0.051437456
        ],
        [
         80000743,
         0.0036881901
        ],
        [
         80000744,
         0.16534376
        ],
        [
         80000745,
         0.009007305
        ],
        [
         80000746,
         0.0032375576
        ],
        [
         80000747,
         0.033418022
        ],
        [
         80000748,
         0.007795542
        ],
        [
         80000749,
         0.044401746
        ],
        [
         80000750,
         0.00993274
        ],
        [
         80000751,
         0.103832714
        ],
        [
         80000752,
         0.59999895
        ],
        [
         80000753,
         0.647919
        ],
        [
         80000754,
         0.0141684925
        ],
        [
         80000755,
         0.36914665
        ],
        [
         80000756,
         0.3746092
        ],
        [
         80000757,
         0.03971774
        ],
        [
         80000758,
         0.73363966
        ],
        [
         80000759,
         0.14244938
        ],
        [
         80000760,
         0.421964
        ],
        [
         80000761,
         0.1013099
        ],
        [
         80000762,
         0.031382035
        ],
        [
         80000763,
         0.014933119
        ],
        [
         80000764,
         0.19785768
        ],
        [
         80000765,
         0.46067488
        ],
        [
         80000766,
         0.004950771
        ],
        [
         80000767,
         0.049761534
        ],
        [
         80000768,
         0.047336884
        ],
        [
         80000769,
         0.012702305
        ],
        [
         80000770,
         0.035030086
        ],
        [
         80000771,
         0.15207542
        ],
        [
         80000772,
         0.58829963
        ],
        [
         80000773,
         0.2688996
        ],
        [
         80000774,
         0.05029481
        ],
        [
         80000775,
         0.31146204
        ],
        [
         80000776,
         0.4090384
        ],
        [
         80000777,
         0.46856213
        ],
        [
         80000778,
         0.004615868
        ],
        [
         80000779,
         0.0099076675
        ],
        [
         80000780,
         0.04690608
        ],
        [
         80000781,
         0.032586023
        ],
        [
         80000782,
         0.86848474
        ],
        [
         80000783,
         0.004409305
        ],
        [
         80000784,
         0.01830743
        ],
        [
         80000785,
         0.029633753
        ],
        [
         80000786,
         0.1248253
        ],
        [
         80000787,
         0.02179548
        ],
        [
         80000788,
         0.008784009
        ],
        [
         80000789,
         0.031023977
        ],
        [
         80000790,
         0.10014766
        ],
        [
         80000791,
         0.010055833
        ],
        [
         80000792,
         0.011375714
        ],
        [
         80000793,
         0.02726342
        ],
        [
         80000794,
         0.22519383
        ],
        [
         80000795,
         0.004543989
        ],
        [
         80000796,
         0.06542263
        ],
        [
         80000797,
         0.004909412
        ],
        [
         80000798,
         0.61143464
        ],
        [
         80000799,
         0.60716283
        ],
        [
         80000800,
         0.08656382
        ],
        [
         80000801,
         0.017008888
        ],
        [
         80000802,
         0.015342165
        ],
        [
         80000803,
         0.096201025
        ],
        [
         80000804,
         0.1871063
        ],
        [
         80000805,
         0.0067421733
        ],
        [
         80000806,
         0.014445418
        ],
        [
         80000807,
         0.99351335
        ],
        [
         80000808,
         0.0043813973
        ],
        [
         80000809,
         0.6074318
        ],
        [
         80000810,
         0.036208328
        ],
        [
         80000811,
         0.0261264
        ],
        [
         80000812,
         0.004795522
        ],
        [
         80000813,
         0.025049463
        ],
        [
         80000814,
         0.039250873
        ],
        [
         80000815,
         0.021797255
        ],
        [
         80000816,
         0.015066624
        ],
        [
         80000817,
         0.008223914
        ],
        [
         80000818,
         0.01881716
        ],
        [
         80000819,
         0.11179924
        ],
        [
         80000820,
         0.05466621
        ],
        [
         80000821,
         0.06996554
        ],
        [
         80000822,
         0.046935998
        ],
        [
         80000823,
         0.008201765
        ],
        [
         80000824,
         0.5661213
        ],
        [
         80000825,
         0.010709627
        ],
        [
         80000826,
         0.6657646
        ],
        [
         80000827,
         0.9352857
        ],
        [
         80000828,
         0.04534482
        ],
        [
         80000829,
         0.18781042
        ],
        [
         80000830,
         0.013345682
        ],
        [
         80000831,
         0.36857152
        ],
        [
         80000832,
         0.025702057
        ],
        [
         80000833,
         0.69436723
        ],
        [
         80000834,
         0.8124101
        ],
        [
         80000835,
         0.81902957
        ],
        [
         80000836,
         0.014684855
        ],
        [
         80000837,
         0.11390672
        ],
        [
         80000838,
         0.037225604
        ],
        [
         80000839,
         0.238907
        ],
        [
         80000840,
         0.060840353
        ],
        [
         80000841,
         0.06295582
        ],
        [
         80000842,
         0.022186268
        ],
        [
         80000843,
         0.017483575
        ],
        [
         80000844,
         0.0707445
        ],
        [
         80000845,
         0.0052353567
        ],
        [
         80000846,
         0.056667924
        ],
        [
         80000847,
         0.048463084
        ],
        [
         80000848,
         0.020646237
        ],
        [
         80000849,
         0.0908029
        ],
        [
         80000850,
         0.018843455
        ],
        [
         80000851,
         0.044044334
        ],
        [
         80000852,
         0.37115008
        ],
        [
         80000853,
         0.0416634
        ],
        [
         80000854,
         0.023322549
        ],
        [
         80000855,
         0.18728502
        ],
        [
         80000856,
         0.38130692
        ],
        [
         80000857,
         0.012878092
        ],
        [
         80000858,
         0.26611146
        ],
        [
         80000859,
         0.35654202
        ],
        [
         80000860,
         8.923265E-4
        ],
        [
         80000861,
         0.00586402
        ],
        [
         80000862,
         0.71352404
        ],
        [
         80000863,
         0.0053874576
        ],
        [
         80000864,
         0.60246146
        ],
        [
         80000865,
         0.6914471
        ],
        [
         80000866,
         0.0067979866
        ],
        [
         80000867,
         0.7182428
        ],
        [
         80000868,
         0.072276525
        ],
        [
         80000869,
         0.17987281
        ],
        [
         80000870,
         0.795454
        ],
        [
         80000871,
         0.992866
        ],
        [
         80000872,
         0.7734986
        ],
        [
         80000873,
         0.9334796
        ],
        [
         80000874,
         0.924477
        ],
        [
         80000875,
         0.2648747
        ],
        [
         80000876,
         0.0070790015
        ],
        [
         80000877,
         0.7321523
        ],
        [
         80000878,
         0.32884356
        ],
        [
         80000879,
         0.09800878
        ],
        [
         80000880,
         0.8110081
        ],
        [
         80000881,
         0.49072734
        ],
        [
         80000882,
         0.22859368
        ],
        [
         80000883,
         0.46011546
        ],
        [
         80000884,
         0.00612749
        ],
        [
         80000885,
         0.008045346
        ],
        [
         80000886,
         0.15015657
        ],
        [
         80000887,
         0.9339652
        ],
        [
         80000888,
         0.054768726
        ],
        [
         80000889,
         0.8758633
        ],
        [
         80000890,
         0.5794395
        ],
        [
         80000891,
         0.7218671
        ],
        [
         80000892,
         0.008651966
        ],
        [
         80000893,
         0.6561754
        ],
        [
         80000894,
         0.10468484
        ],
        [
         80000895,
         0.021397237
        ],
        [
         80000896,
         0.70172536
        ],
        [
         80000897,
         0.037582982
        ],
        [
         80000898,
         0.007652652
        ],
        [
         80000899,
         0.010909018
        ],
        [
         80000900,
         0.35832483
        ],
        [
         80000901,
         0.005975071
        ],
        [
         80000902,
         0.0013159831
        ],
        [
         80000903,
         0.0028775097
        ],
        [
         80000904,
         0.17498243
        ],
        [
         80000905,
         0.015726982
        ],
        [
         80000906,
         0.038682807
        ],
        [
         80000907,
         0.005422971
        ],
        [
         80000908,
         0.0017507279
        ],
        [
         80000909,
         0.009271238
        ],
        [
         80000910,
         0.022875037
        ],
        [
         80000911,
         0.03202731
        ],
        [
         80000912,
         0.002869607
        ],
        [
         80000913,
         0.11253106
        ],
        [
         80000914,
         0.057477742
        ],
        [
         80000915,
         0.090466276
        ],
        [
         80000916,
         0.001052624
        ],
        [
         80000917,
         0.015784478
        ],
        [
         80000918,
         0.023321208
        ],
        [
         80000919,
         0.024882596
        ],
        [
         80000920,
         0.08927636
        ],
        [
         80000921,
         0.025392715
        ],
        [
         80000922,
         0.049513686
        ],
        [
         80000923,
         0.03482204
        ],
        [
         80000924,
         0.079711385
        ],
        [
         80000925,
         0.22145997
        ],
        [
         80000926,
         0.06816326
        ],
        [
         80000927,
         0.11097911
        ],
        [
         80000928,
         0.06191374
        ],
        [
         80000929,
         0.07773484
        ],
        [
         80000930,
         0.07820965
        ],
        [
         80000931,
         0.019973466
        ],
        [
         80000932,
         0.031691074
        ],
        [
         80000933,
         0.02102514
        ],
        [
         80000934,
         0.07959894
        ],
        [
         80000935,
         0.033527985
        ],
        [
         80000936,
         0.019653773
        ],
        [
         80000937,
         0.39013356
        ],
        [
         80000938,
         0.004988048
        ],
        [
         80000939,
         0.0030603504
        ],
        [
         80000940,
         0.10527817
        ],
        [
         80000941,
         0.05495087
        ],
        [
         80000942,
         0.011001271
        ],
        [
         80000943,
         0.19427356
        ],
        [
         80000944,
         0.003166371
        ],
        [
         80000945,
         0.62499547
        ],
        [
         80000946,
         0.41947347
        ],
        [
         80000947,
         0.009148778
        ],
        [
         80000948,
         0.85646665
        ],
        [
         80000949,
         0.0022776811
        ],
        [
         80000950,
         0.87246335
        ],
        [
         80000951,
         0.24665667
        ],
        [
         80000952,
         0.012318245
        ],
        [
         80000953,
         0.91406554
        ],
        [
         80000954,
         0.42437837
        ],
        [
         80000955,
         0.08114757
        ],
        [
         80000956,
         0.004916785
        ],
        [
         80000957,
         0.013314925
        ],
        [
         80000958,
         0.36624342
        ],
        [
         80000959,
         0.22688974
        ],
        [
         80000960,
         0.07072957
        ],
        [
         80000961,
         0.027983114
        ],
        [
         80000962,
         0.0052932603
        ],
        [
         80000963,
         0.35943744
        ],
        [
         80000964,
         0.004674901
        ],
        [
         80000965,
         0.86205345
        ],
        [
         80000966,
         0.06546287
        ],
        [
         80000967,
         0.5515842
        ],
        [
         80000968,
         0.8014907
        ],
        [
         80000969,
         0.12315268
        ],
        [
         80000970,
         0.011240759
        ],
        [
         80000971,
         0.7831958
        ],
        [
         80000972,
         0.8659194
        ],
        [
         80000973,
         0.30536467
        ],
        [
         80000974,
         0.052486748
        ],
        [
         80000975,
         0.045798354
        ],
        [
         80000976,
         0.0994146
        ],
        [
         80000977,
         0.04161406
        ],
        [
         80000978,
         0.47894385
        ],
        [
         80000979,
         0.0011706523
        ],
        [
         80000980,
         0.009268395
        ],
        [
         80000981,
         0.00576537
        ],
        [
         80000982,
         0.008043958
        ],
        [
         80000983,
         0.22445644
        ],
        [
         80000984,
         0.004478741
        ],
        [
         80000985,
         0.04489826
        ],
        [
         80000986,
         0.6922732
        ],
        [
         80000987,
         0.11964081
        ],
        [
         80000988,
         0.004673726
        ],
        [
         80000989,
         0.5864324
        ],
        [
         80000990,
         0.3482343
        ],
        [
         80000991,
         0.104146644
        ],
        [
         80000992,
         0.17558374
        ],
        [
         80000993,
         0.0066848947
        ],
        [
         80000994,
         0.6385865
        ],
        [
         80000995,
         0.027229995
        ],
        [
         80000996,
         0.67361677
        ],
        [
         80000997,
         0.016864056
        ],
        [
         80000998,
         0.019371726
        ],
        [
         80000999,
         0.52070254
        ],
        [
         80001000,
         0.30765188
        ]
       ],
       "datasetInfos": [],
       "dbfsResultPath": "fullTableResult56e-aacf-8a595708c548",
       "isJsonSchema": true,
       "metadata": {},
       "overflow": true,
       "plotOptions": {
        "customPlotOptions": {},
        "displayType": "table",
        "pivotAggregation": null,
        "pivotColumns": null,
        "xColumns": null,
        "yColumns": null
       },
       "removedWidgets": [],
       "schema": [
        {
         "metadata": "{}",
         "name": "reviewID",
         "type": "\"integer\""
        },
        {
         "metadata": "{}",
         "name": "label",
         "type": "\"float\""
        }
       ],
       "type": "table"
      }
     },
     "output_type": "display_data"
    }
   ],
   "source": [
    "display(submission_data.select('reviewID', 'label'))"
   ]
  },
  {
   "cell_type": "code",
   "execution_count": 0,
   "metadata": {
    "application/vnd.databricks.v1+cell": {
     "cellMetadata": {},
     "inputWidgets": {},
     "nuid": "5df76a53-3e1e-4571-b284-8c17b9ecf751",
     "showTitle": false,
     "title": ""
    }
   },
   "outputs": [],
   "source": []
  }
 ],
 "metadata": {
  "application/vnd.databricks.v1+notebook": {
   "dashboards": [],
   "language": "python",
   "notebookMetadata": {
    "pythonIndentUnit": 4
   },
   "notebookName": "Kaggle_LR_0.8886",
   "notebookOrigID": 2575635292721288,
   "widgets": {}
  }
 },
 "nbformat": 4,
 "nbformat_minor": 0
}
